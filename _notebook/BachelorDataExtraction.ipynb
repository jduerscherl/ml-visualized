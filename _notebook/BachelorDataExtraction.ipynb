{
 "cells": [
  {
   "cell_type": "markdown",
   "metadata": {},
   "source": [
    "Bachelor Data Extraction & Modeling\n",
    "===\n",
    "\n",
    "This notebook uses `requests` and `BeautifulSoup` to extract call-out (Rose Order) data for the contestants on The Bachelor, a popular American reality television series.\n",
    "\n",
    "I also fit ML models to rank Bachelor contestants based on their rose order in Week 1. Specifically, I tried fitting a linear regression model (both univariate and polynomial), which (as expected) predicted exactly Rose Order.  Then, I fit a default-parameter Gradient Boosting regression model, which did provide a slightly different ordering, and that I used for predicting order on Australia's Bachelor (Matty J.'s season)."
   ]
  },
  {
   "cell_type": "code",
   "execution_count": 93,
   "metadata": {
    "collapsed": true
   },
   "outputs": [],
   "source": [
    "import requests\n",
    "import bs4\n",
    "import pandas as pd\n",
    "import numpy as np\n",
    "import matplotlib.pyplot as plt\n",
    "import os\n",
    "import sklearn"
   ]
  },
  {
   "cell_type": "markdown",
   "metadata": {},
   "source": [
    "### Explore the structure of the wiki pages and use BeautifulSoup to extract and structure the data"
   ]
  },
  {
   "cell_type": "code",
   "execution_count": 8,
   "metadata": {},
   "outputs": [],
   "source": [
    "r = requests.get(\"https://bachelor-nation.fandom.com/wiki/The_Bachelor_(Season_22)\")"
   ]
  },
  {
   "cell_type": "code",
   "execution_count": 14,
   "metadata": {},
   "outputs": [
    {
     "data": {
      "text/plain": [
       "2"
      ]
     },
     "execution_count": 14,
     "metadata": {},
     "output_type": "execute_result"
    }
   ],
   "source": [
    "soup = bs4.BeautifulSoup(r.text, 'html.parser')\n",
    "tables = soup.find_all('table', class_='wikitable')\n",
    "len(tables)"
   ]
  },
  {
   "cell_type": "code",
   "execution_count": null,
   "metadata": {
    "scrolled": true
   },
   "outputs": [],
   "source": []
  },
  {
   "cell_type": "code",
   "execution_count": 19,
   "metadata": {},
   "outputs": [
    {
     "data": {
      "text/plain": [
       "['Week', '1', '2', '3', '4', '5', '6', '7', '8', '9', '10']"
      ]
     },
     "execution_count": 19,
     "metadata": {},
     "output_type": "execute_result"
    }
   ],
   "source": [
    "table = tables[0]\n",
    "ths = table.find_all('th')\n",
    "[th.text.strip() for th in ths]"
   ]
  },
  {
   "cell_type": "code",
   "execution_count": 21,
   "metadata": {},
   "outputs": [
    {
     "name": "stdout",
     "output_type": "stream",
     "text": [
      "[<td bgcolor=\"tomato\" rowspan=\"8\">Ali<br/>Amber<br/>Bri<br/>Brittane J.<br/>Jessica<br/>Lauren J.<br/>Nysha<br/>Olivia\n",
      "</td>, <td bgcolor=\"darkgray\" colspan=\"9\" rowspan=\"9\">\n",
      "</td>]\n"
     ]
    }
   ],
   "source": [
    "print(tds)"
   ]
  },
  {
   "cell_type": "code",
   "execution_count": 34,
   "metadata": {},
   "outputs": [
    {
     "data": {
      "text/plain": [
       "True"
      ]
     },
     "execution_count": 34,
     "metadata": {},
     "output_type": "execute_result"
    }
   ],
   "source": [
    "'br' in str(tds[0])"
   ]
  },
  {
   "cell_type": "code",
   "execution_count": 52,
   "metadata": {},
   "outputs": [],
   "source": [
    "r = requests.get(\"https://bachelor-nation.fandom.com/wiki/The_Bachelor_(Season_22)\")\n",
    "soup = bs4.BeautifulSoup(r.text, 'html.parser')\n",
    "tables = soup.find_all('table', class_='wikitable')\n",
    "table = tables[0]"
   ]
  },
  {
   "cell_type": "code",
   "execution_count": 53,
   "metadata": {
    "scrolled": false
   },
   "outputs": [
    {
     "data": {
      "text/plain": [
       "122"
      ]
     },
     "execution_count": 53,
     "metadata": {},
     "output_type": "execute_result"
    }
   ],
   "source": [
    "d = []\n",
    "for rose_order, tr in enumerate(table.find_all('tr')):\n",
    "    tds = tr.find_all('td')\n",
    "    if not tds:\n",
    "        continue\n",
    "    for week, td in enumerate(tds):\n",
    "        for line in td.findAll(text=True):\n",
    "            name = line.strip()\n",
    "            if name != \"\":\n",
    "                d.append({\n",
    "                    'rose_order': rose_order,\n",
    "                    'week': week,\n",
    "                    'contestant': name\n",
    "                })\n",
    "        #td_str = str(td)\n",
    "        #if \"<br/>\" in td_str:\n",
    "        #    for name in td_str.split(\"<br/>\"):\n",
    "        #        print(week, name)\n",
    "        #else:\n",
    "        #    name = td.text.strip()\n",
    "        #    print(week, name)\n",
    "        \n",
    "len(d) "
   ]
  },
  {
   "cell_type": "code",
   "execution_count": 54,
   "metadata": {},
   "outputs": [
    {
     "data": {
      "text/plain": [
       "122"
      ]
     },
     "execution_count": 54,
     "metadata": {},
     "output_type": "execute_result"
    }
   ],
   "source": [
    "df = pd.DataFrame(d)\n",
    "len(d)"
   ]
  },
  {
   "cell_type": "code",
   "execution_count": 73,
   "metadata": {
    "collapsed": true
   },
   "outputs": [],
   "source": [
    "df['rose_order'] -= 2"
   ]
  },
  {
   "cell_type": "code",
   "execution_count": 74,
   "metadata": {},
   "outputs": [
    {
     "data": {
      "text/html": [
       "<div>\n",
       "<style scoped>\n",
       "    .dataframe tbody tr th:only-of-type {\n",
       "        vertical-align: middle;\n",
       "    }\n",
       "\n",
       "    .dataframe tbody tr th {\n",
       "        vertical-align: top;\n",
       "    }\n",
       "\n",
       "    .dataframe thead th {\n",
       "        text-align: right;\n",
       "    }\n",
       "</style>\n",
       "<table border=\"1\" class=\"dataframe\">\n",
       "  <thead>\n",
       "    <tr style=\"text-align: right;\">\n",
       "      <th></th>\n",
       "      <th>contestant</th>\n",
       "      <th>rose_order</th>\n",
       "      <th>week</th>\n",
       "    </tr>\n",
       "  </thead>\n",
       "  <tbody>\n",
       "    <tr>\n",
       "      <th>0</th>\n",
       "      <td>Rachel</td>\n",
       "      <td>0</td>\n",
       "      <td>0</td>\n",
       "    </tr>\n",
       "    <tr>\n",
       "      <th>1</th>\n",
       "      <td>Corinne</td>\n",
       "      <td>0</td>\n",
       "      <td>1</td>\n",
       "    </tr>\n",
       "    <tr>\n",
       "      <th>2</th>\n",
       "      <td>Danielle L.</td>\n",
       "      <td>0</td>\n",
       "      <td>2</td>\n",
       "    </tr>\n",
       "    <tr>\n",
       "      <th>3</th>\n",
       "      <td>Danielle L.</td>\n",
       "      <td>0</td>\n",
       "      <td>3</td>\n",
       "    </tr>\n",
       "    <tr>\n",
       "      <th>4</th>\n",
       "      <td>Rachel</td>\n",
       "      <td>0</td>\n",
       "      <td>4</td>\n",
       "    </tr>\n",
       "  </tbody>\n",
       "</table>\n",
       "</div>"
      ],
      "text/plain": [
       "    contestant  rose_order  week\n",
       "0       Rachel           0     0\n",
       "1      Corinne           0     1\n",
       "2  Danielle L.           0     2\n",
       "3  Danielle L.           0     3\n",
       "4       Rachel           0     4"
      ]
     },
     "execution_count": 74,
     "metadata": {},
     "output_type": "execute_result"
    }
   ],
   "source": [
    "df.head()"
   ]
  },
  {
   "cell_type": "code",
   "execution_count": 75,
   "metadata": {},
   "outputs": [],
   "source": [
    "contestants = df.groupby('contestant')"
   ]
  },
  {
   "cell_type": "code",
   "execution_count": 81,
   "metadata": {},
   "outputs": [
    {
     "data": {
      "text/plain": [
       "30"
      ]
     },
     "execution_count": 81,
     "metadata": {},
     "output_type": "execute_result"
    }
   ],
   "source": [
    "contestants = []\n",
    "final_week = np.max(df.week)\n",
    "for contestant, group in df.groupby('contestant'):\n",
    "    \n",
    "    week_eliminated = np.max(group.week)\n",
    "    if week_eliminated == final_week and group[group.week == final_week].iloc[0].rose_order == 0:\n",
    "        # this is a special case for the winner, who we consider to be eliminated \n",
    "        week_eliminated += 1\n",
    "    week0_rose_order = group[group.week == 0].iloc[0].rose_order\n",
    "    contestants.append({\n",
    "        'season': season,\n",
    "        'contestant': contestant, \n",
    "        'week_eliminated': week_eliminated, \n",
    "        'week0_rose_order': week0_rose_order\n",
    "             })\n",
    "len(d)"
   ]
  },
  {
   "cell_type": "markdown",
   "metadata": {
    "collapsed": true
   },
   "source": [
    "### Parse and create dataframe\n",
    "\n",
    "Now that we have a process that works, we'll load in data for seasons 14-23."
   ]
  },
  {
   "cell_type": "code",
   "execution_count": 90,
   "metadata": {},
   "outputs": [
    {
     "name": "stdout",
     "output_type": "stream",
     "text": [
      "Season 14\n",
      "Extracted data for 100 contestants.\n",
      "Season 15\n",
      "Extracted data for 145 contestants.\n",
      "Season 16\n",
      "Extracted data for 133 contestants.\n",
      "Season 17\n",
      "Extracted data for 135 contestants.\n",
      "Season 18\n",
      "Extracted data for 107 contestants.\n",
      "Season 19\n",
      "Extracted data for 122 contestants.\n",
      "Season 20\n",
      "Extracted data for 115 contestants.\n",
      "Season 21\n",
      "Extracted data for 122 contestants.\n",
      "Season 22\n",
      "Extracted data for 122 contestants.\n",
      "Season 23\n",
      "Extracted data for 157 contestants.\n"
     ]
    },
    {
     "data": {
      "text/plain": [
       "281"
      ]
     },
     "execution_count": 90,
     "metadata": {},
     "output_type": "execute_result"
    }
   ],
   "source": [
    "# load the data for many seasons at once\n",
    "contestants = []\n",
    "for season in [14, 15, 16, 17, 18, 19, 20, 21, 22, 23]:\n",
    "    print(f\"Season {season}\")\n",
    "    r = requests.get(f\"https://bachelor-nation.fandom.com/wiki/The_Bachelor_(Season_{season})\")\n",
    "    soup = bs4.BeautifulSoup(r.text, 'html.parser')\n",
    "    tables = soup.find_all('table', class_='wikitable')\n",
    "    table = tables[0]\n",
    "\n",
    "    d = []\n",
    "    for rose_order, tr in enumerate(table.find_all('tr')):\n",
    "        tds = tr.find_all('td')\n",
    "        if not tds:\n",
    "            continue\n",
    "        for week, td in enumerate(tds):\n",
    "            for line in td.findAll(text=True):\n",
    "                name = line.strip()\n",
    "                if name != \"\":\n",
    "                    d.append({\n",
    "                        'rose_order': rose_order,\n",
    "                        'week': week,\n",
    "                        'contestant': name\n",
    "                    })\n",
    "    df = pd.DataFrame(d)\n",
    "    print(f\"Extracted data for {len(df)} contestants.\")\n",
    "    df['rose_order'] -= 2\n",
    "    \n",
    "    final_week = np.max(df.week)\n",
    "    for contestant, group in df.groupby('contestant'):\n",
    "\n",
    "        week_eliminated = np.max(group.week)\n",
    "        is_winner = False\n",
    "        if week_eliminated == final_week and group[group.week == final_week].iloc[0].rose_order == 0:\n",
    "            # this is a special case for the winner, who we consider to be eliminated \n",
    "            week_eliminated += 1\n",
    "            is_winner = True\n",
    "        if 0 not in set(group.week):\n",
    "            # ignore late-joining contestants\n",
    "            continue\n",
    "        week0_rose_order = group[group.week == 0].iloc[0].rose_order\n",
    "        contestants.append({\n",
    "            'season': season,\n",
    "            'contestant': contestant, \n",
    "            'week_eliminated': week_eliminated, \n",
    "            'week0_rose_order': week0_rose_order,\n",
    "            'is_winner': is_winner\n",
    "                 })\n",
    "len(contestants)"
   ]
  },
  {
   "cell_type": "code",
   "execution_count": 91,
   "metadata": {},
   "outputs": [
    {
     "data": {
      "text/plain": [
       "281"
      ]
     },
     "execution_count": 91,
     "metadata": {},
     "output_type": "execute_result"
    }
   ],
   "source": [
    "df = pd.DataFrame(contestants)\n",
    "len(df)"
   ]
  },
  {
   "cell_type": "code",
   "execution_count": 92,
   "metadata": {},
   "outputs": [
    {
     "data": {
      "text/html": [
       "<div>\n",
       "<style scoped>\n",
       "    .dataframe tbody tr th:only-of-type {\n",
       "        vertical-align: middle;\n",
       "    }\n",
       "\n",
       "    .dataframe tbody tr th {\n",
       "        vertical-align: top;\n",
       "    }\n",
       "\n",
       "    .dataframe thead th {\n",
       "        text-align: right;\n",
       "    }\n",
       "</style>\n",
       "<table border=\"1\" class=\"dataframe\">\n",
       "  <thead>\n",
       "    <tr style=\"text-align: right;\">\n",
       "      <th></th>\n",
       "      <th>contestant</th>\n",
       "      <th>is_winner</th>\n",
       "      <th>season</th>\n",
       "      <th>week0_rose_order</th>\n",
       "      <th>week_eliminated</th>\n",
       "    </tr>\n",
       "  </thead>\n",
       "  <tbody>\n",
       "    <tr>\n",
       "      <th>24</th>\n",
       "      <td>Vienna</td>\n",
       "      <td>True</td>\n",
       "      <td>14</td>\n",
       "      <td>10</td>\n",
       "      <td>9</td>\n",
       "    </tr>\n",
       "    <tr>\n",
       "      <th>32</th>\n",
       "      <td>Emily</td>\n",
       "      <td>True</td>\n",
       "      <td>15</td>\n",
       "      <td>27</td>\n",
       "      <td>11</td>\n",
       "    </tr>\n",
       "    <tr>\n",
       "      <th>61</th>\n",
       "      <td>Courtney</td>\n",
       "      <td>True</td>\n",
       "      <td>16</td>\n",
       "      <td>23</td>\n",
       "      <td>11</td>\n",
       "    </tr>\n",
       "    <tr>\n",
       "      <th>85</th>\n",
       "      <td>Catherine</td>\n",
       "      <td>True</td>\n",
       "      <td>17</td>\n",
       "      <td>9</td>\n",
       "      <td>11</td>\n",
       "    </tr>\n",
       "    <tr>\n",
       "      <th>128</th>\n",
       "      <td>Nikki</td>\n",
       "      <td>True</td>\n",
       "      <td>18</td>\n",
       "      <td>2</td>\n",
       "      <td>10</td>\n",
       "    </tr>\n",
       "    <tr>\n",
       "      <th>162</th>\n",
       "      <td>Whitney</td>\n",
       "      <td>True</td>\n",
       "      <td>19</td>\n",
       "      <td>19</td>\n",
       "      <td>10</td>\n",
       "    </tr>\n",
       "    <tr>\n",
       "      <th>180</th>\n",
       "      <td>Lauren B.</td>\n",
       "      <td>True</td>\n",
       "      <td>20</td>\n",
       "      <td>1</td>\n",
       "      <td>10</td>\n",
       "    </tr>\n",
       "    <tr>\n",
       "      <th>219</th>\n",
       "      <td>Vanessa</td>\n",
       "      <td>True</td>\n",
       "      <td>21</td>\n",
       "      <td>1</td>\n",
       "      <td>10</td>\n",
       "    </tr>\n",
       "    <tr>\n",
       "      <th>225</th>\n",
       "      <td>Becca K.</td>\n",
       "      <td>True</td>\n",
       "      <td>22</td>\n",
       "      <td>1</td>\n",
       "      <td>10</td>\n",
       "    </tr>\n",
       "    <tr>\n",
       "      <th>258</th>\n",
       "      <td>Cassie</td>\n",
       "      <td>True</td>\n",
       "      <td>23</td>\n",
       "      <td>8</td>\n",
       "      <td>11</td>\n",
       "    </tr>\n",
       "  </tbody>\n",
       "</table>\n",
       "</div>"
      ],
      "text/plain": [
       "    contestant  is_winner  season  week0_rose_order  week_eliminated\n",
       "24      Vienna       True      14                10                9\n",
       "32       Emily       True      15                27               11\n",
       "61    Courtney       True      16                23               11\n",
       "85   Catherine       True      17                 9               11\n",
       "128      Nikki       True      18                 2               10\n",
       "162    Whitney       True      19                19               10\n",
       "180  Lauren B.       True      20                 1               10\n",
       "219    Vanessa       True      21                 1               10\n",
       "225   Becca K.       True      22                 1               10\n",
       "258     Cassie       True      23                 8               11"
      ]
     },
     "execution_count": 92,
     "metadata": {},
     "output_type": "execute_result"
    }
   ],
   "source": [
    "df[df.is_winner]"
   ]
  },
  {
   "cell_type": "markdown",
   "metadata": {},
   "source": [
    "### Modeling\n",
    "\n",
    "Using sklearn."
   ]
  },
  {
   "cell_type": "code",
   "execution_count": 120,
   "metadata": {},
   "outputs": [],
   "source": [
    "# create a polynomial term for use in modeling\n",
    "df['week0_poly'] = df.week0_rose_order ** 2"
   ]
  },
  {
   "cell_type": "code",
   "execution_count": 137,
   "metadata": {},
   "outputs": [
    {
     "data": {
      "text/plain": [
       "240"
      ]
     },
     "execution_count": 137,
     "metadata": {},
     "output_type": "execute_result"
    }
   ],
   "source": [
    "# by \n",
    "sdf = df[df.week_eliminated >= 1]\n",
    "len(sdf)"
   ]
  },
  {
   "cell_type": "code",
   "execution_count": 121,
   "metadata": {},
   "outputs": [
    {
     "data": {
      "text/plain": [
       "LinearRegression(copy_X=True, fit_intercept=True, n_jobs=1, normalize=False)"
      ]
     },
     "execution_count": 121,
     "metadata": {},
     "output_type": "execute_result"
    }
   ],
   "source": [
    "import sklearn.linear_model\n",
    "md = sklearn.linear_model.LinearRegression()\n",
    "#md.fit(df.week0_rose_order.to_numpy().reshape((len(df), 1)), df.week_eliminated)\n",
    "md.fit(df[['week0_rose_order', 'week0_poly']], df.week_eliminated)"
   ]
  },
  {
   "cell_type": "code",
   "execution_count": 146,
   "metadata": {},
   "outputs": [
    {
     "data": {
      "text/plain": [
       "GradientBoostingRegressor(alpha=0.9, criterion='friedman_mse', init=None,\n",
       "             learning_rate=0.1, loss='ls', max_depth=3, max_features=None,\n",
       "             max_leaf_nodes=None, min_impurity_split=1e-07,\n",
       "             min_samples_leaf=1, min_samples_split=2,\n",
       "             min_weight_fraction_leaf=0.0, n_estimators=100,\n",
       "             presort='auto', random_state=None, subsample=1.0, verbose=0,\n",
       "             warm_start=False)"
      ]
     },
     "execution_count": 146,
     "metadata": {},
     "output_type": "execute_result"
    }
   ],
   "source": [
    "import sklearn.ensemble\n",
    "md = sklearn.ensemble.GradientBoostingRegressor()\n",
    "md.fit(sdf.week0_rose_order.to_numpy().reshape((len(sdf), 1)), sdf.week_eliminated)"
   ]
  },
  {
   "cell_type": "code",
   "execution_count": 147,
   "metadata": {},
   "outputs": [],
   "source": [
    "week_pred = md.predict(sdf.week0_rose_order.to_numpy().reshape((len(sdf), 1)))"
   ]
  },
  {
   "cell_type": "code",
   "execution_count": 148,
   "metadata": {},
   "outputs": [
    {
     "data": {
      "image/png": "[encoded data removed]",
      "text/plain": [
       "<matplotlib.figure.Figure at 0x7fa6e7ce48d0>"
      ]
     },
     "metadata": {},
     "output_type": "display_data"
    }
   ],
   "source": [
    "plt.scatter(sdf.week0_rose_order, sdf.week_eliminated, alpha=0.4, color='black')\n",
    "plt.show()"
   ]
  },
  {
   "cell_type": "code",
   "execution_count": 149,
   "metadata": {},
   "outputs": [
    {
     "data": {
      "image/png": "[encoded data removed]",
      "text/plain": [
       "<matplotlib.figure.Figure at 0x7fa6e1feb9e8>"
      ]
     },
     "metadata": {},
     "output_type": "display_data"
    }
   ],
   "source": [
    "plt.hist(sdf.week_eliminated - week_pred)\n",
    "plt.show()"
   ]
  },
  {
   "cell_type": "code",
   "execution_count": 143,
   "metadata": {},
   "outputs": [
    {
     "data": {
      "text/plain": [
       "array([ 6, 10,  6,  5,  8,  4,  4,  1,  6,  1,  5,  3,  1,  1,  4,  2])"
      ]
     },
     "execution_count": 143,
     "metadata": {},
     "output_type": "execute_result"
    }
   ],
   "source": [
    "# what predictions does the model make given starting positions?\n",
    "md.predict(np.array([0, 1, 2, 3, 4, 5, 6, 7, 8, 9, 10, 11, 12, 13, 14, 15]).reshape((16, 1)))"
   ]
  },
  {
   "cell_type": "markdown",
   "metadata": {},
   "source": [
    "### Predict on a specific list of names\n",
    "\n",
    "From Matty J.'s season on Bachelor Australia."
   ]
  },
  {
   "cell_type": "code",
   "execution_count": 133,
   "metadata": {},
   "outputs": [
    {
     "data": {
      "text/plain": [
       "['Michelle',\n",
       " 'Lisa',\n",
       " 'Laura',\n",
       " 'Alix',\n",
       " 'Elora',\n",
       " 'Cobie',\n",
       " 'Elise',\n",
       " 'Tara',\n",
       " 'Simone',\n",
       " 'Laura-Ann',\n",
       " 'Akoulina',\n",
       " 'Leah',\n",
       " 'Sian',\n",
       " 'Florence',\n",
       " 'Stephanie',\n",
       " 'Natalie',\n",
       " 'Belinda',\n",
       " 'Jennifer',\n",
       " 'Sharlene',\n",
       " 'Elizabeth']"
      ]
     },
     "execution_count": 133,
     "metadata": {},
     "output_type": "execute_result"
    }
   ],
   "source": [
    "names=\"\"\"\n",
    "Michelle\n",
    "Lisa\n",
    "Laura\n",
    "Alix\n",
    "Elora\n",
    "Cobie\n",
    "Elise\n",
    "Tara\n",
    "Simone\n",
    "Laura-Ann\n",
    "Akoulina\n",
    "Leah\n",
    "Sian\n",
    "Florence\n",
    "Stephanie\n",
    "Natalie\n",
    "Belinda\n",
    "Jennifer\n",
    "Sharlene\n",
    "Elizabeth\"\"\"\n",
    "mattyj_contestants = [name for name in names.split(\"\\n\") if name != \"\"]\n",
    "mattyj_contestants"
   ]
  },
  {
   "cell_type": "code",
   "execution_count": 134,
   "metadata": {},
   "outputs": [
    {
     "data": {
      "text/plain": [
       "[0, 1, 2, 3, 4, 5, 6, 7, 8, 9, 10, 11, 12, 13, 14, 15, 16, 17, 18, 19]"
      ]
     },
     "execution_count": 134,
     "metadata": {},
     "output_type": "execute_result"
    }
   ],
   "source": [
    "week0_order = list(range(len(mattyj_contestants)))\n",
    "week0_order"
   ]
  },
  {
   "cell_type": "code",
   "execution_count": 124,
   "metadata": {},
   "outputs": [],
   "source": [
    "poly = [order**2 for order in week0_order]"
   ]
  },
  {
   "cell_type": "code",
   "execution_count": 151,
   "metadata": {},
   "outputs": [
    {
     "data": {
      "text/plain": [
       "array([6.39504283, 6.76627139, 6.0926128 , 5.19424755, 4.79566722,\n",
       "       4.20552841, 3.71925075, 3.54993528, 5.32746757, 4.50194716,\n",
       "       3.893049  , 3.39379717, 3.20745426, 3.28713705, 3.55931024,\n",
       "       3.55931024, 2.69587863, 4.12419973, 3.27074119, 3.27074119])"
      ]
     },
     "execution_count": 151,
     "metadata": {},
     "output_type": "execute_result"
    }
   ],
   "source": [
    "preds = md.predict(np.array(week0_order).reshape((len(week0_order), 1)))\n",
    "preds"
   ]
  },
  {
   "cell_type": "code",
   "execution_count": 153,
   "metadata": {},
   "outputs": [
    {
     "data": {
      "text/plain": [
       "[(6.766271391004401, 'Lisa'),\n",
       " (6.395042826236096, 'Michelle'),\n",
       " (6.092612797376015, 'Laura'),\n",
       " (5.327467574825978, 'Simone'),\n",
       " (5.19424755380423, 'Alix'),\n",
       " (4.795667221431778, 'Elora'),\n",
       " (4.501947155467457, 'Laura-Ann'),\n",
       " (4.205528410889004, 'Cobie'),\n",
       " (4.1241997342924055, 'Jennifer'),\n",
       " (3.893048997786078, 'Akoulina'),\n",
       " (3.7192507548807674, 'Elise'),\n",
       " (3.559310235826028, 'Stephanie'),\n",
       " (3.559310235826028, 'Natalie'),\n",
       " (3.5499352801474755, 'Tara'),\n",
       " (3.3937971695970446, 'Leah'),\n",
       " (3.28713705032877, 'Florence'),\n",
       " (3.270741193686432, 'Sharlene'),\n",
       " (3.2707411936864315, 'Elizabeth'),\n",
       " (3.207454263615432, 'Sian'),\n",
       " (2.695878634372921, 'Belinda')]"
      ]
     },
     "execution_count": 153,
     "metadata": {},
     "output_type": "execute_result"
    }
   ],
   "source": [
    "scored = list(zip(preds, mattyj_contestants))\n",
    "scored.sort(key=lambda t: t[0], reverse=True)\n",
    "scored"
   ]
  },
  {
   "cell_type": "code",
   "execution_count": 155,
   "metadata": {},
   "outputs": [
    {
     "name": "stdout",
     "output_type": "stream",
     "text": [
      "Lisa\n",
      "Michelle\n",
      "Laura\n",
      "Simone\n",
      "Alix\n",
      "Elora\n",
      "Laura-Ann\n",
      "Cobie\n",
      "Jennifer\n",
      "Akoulina\n",
      "Elise\n",
      "Stephanie\n",
      "Natalie\n",
      "Tara\n",
      "Leah\n",
      "Florence\n",
      "Sharlene\n",
      "Elizabeth\n",
      "Sian\n",
      "Belinda\n"
     ]
    }
   ],
   "source": [
    "for t in scored:\n",
    "    print(t[1])"
   ]
  },
  {
   "cell_type": "code",
   "execution_count": null,
   "metadata": {
    "collapsed": true
   },
   "outputs": [],
   "source": []
  },
  {
   "cell_type": "code",
   "execution_count": 58,
   "metadata": {},
   "outputs": [],
   "source": [
    "week_eliminated = df.groupby('contestant').max().week"
   ]
  },
  {
   "cell_type": "code",
   "execution_count": 59,
   "metadata": {},
   "outputs": [
    {
     "data": {
      "text/plain": [
       "contestant\n",
       "Alexis         4\n",
       "Angela         0\n",
       "Astrid         3\n",
       "Briana         0\n",
       "Brittany       2\n",
       "Christen       2\n",
       "Corinne        6\n",
       "Danielle L.    5\n",
       "Danielle M.    5\n",
       "Dominique      2\n",
       "Elizabeth      1\n",
       "Hailey         1\n",
       "Ida Marie      0\n",
       "Jaimi          4\n",
       "Jasmine B.     0\n",
       "Jasmine G.     5\n",
       "Josephine      4\n",
       "Kristina       5\n",
       "Lacey          1\n",
       "Lauren         0\n",
       "Liz            1\n",
       "Michelle       0\n",
       "Olivia         0\n",
       "Rachel         8\n",
       "Raven          9\n",
       "Sarah          3\n",
       "Susannah       0\n",
       "Taylor         4\n",
       "Vanessa        9\n",
       "Whitney        5\n",
       "Name: week, dtype: int64"
      ]
     },
     "execution_count": 59,
     "metadata": {},
     "output_type": "execute_result"
    }
   ],
   "source": [
    "week_eliminated"
   ]
  },
  {
   "cell_type": "code",
   "execution_count": 63,
   "metadata": {},
   "outputs": [
    {
     "data": {
      "text/html": [
       "<div>\n",
       "<style scoped>\n",
       "    .dataframe tbody tr th:only-of-type {\n",
       "        vertical-align: middle;\n",
       "    }\n",
       "\n",
       "    .dataframe tbody tr th {\n",
       "        vertical-align: top;\n",
       "    }\n",
       "\n",
       "    .dataframe thead th {\n",
       "        text-align: right;\n",
       "    }\n",
       "</style>\n",
       "<table border=\"1\" class=\"dataframe\">\n",
       "  <thead>\n",
       "    <tr style=\"text-align: right;\">\n",
       "      <th></th>\n",
       "      <th>contestant</th>\n",
       "      <th>rose_order</th>\n",
       "      <th>week</th>\n",
       "    </tr>\n",
       "  </thead>\n",
       "  <tbody>\n",
       "    <tr>\n",
       "      <th>0</th>\n",
       "      <td>Rachel</td>\n",
       "      <td>2</td>\n",
       "      <td>0</td>\n",
       "    </tr>\n",
       "    <tr>\n",
       "      <th>10</th>\n",
       "      <td>Vanessa</td>\n",
       "      <td>3</td>\n",
       "      <td>0</td>\n",
       "    </tr>\n",
       "    <tr>\n",
       "      <th>20</th>\n",
       "      <td>Danielle L.</td>\n",
       "      <td>4</td>\n",
       "      <td>0</td>\n",
       "    </tr>\n",
       "    <tr>\n",
       "      <th>32</th>\n",
       "      <td>Christen</td>\n",
       "      <td>5</td>\n",
       "      <td>0</td>\n",
       "    </tr>\n",
       "    <tr>\n",
       "      <th>39</th>\n",
       "      <td>Astrid</td>\n",
       "      <td>6</td>\n",
       "      <td>0</td>\n",
       "    </tr>\n",
       "    <tr>\n",
       "      <th>45</th>\n",
       "      <td>Corinne</td>\n",
       "      <td>7</td>\n",
       "      <td>0</td>\n",
       "    </tr>\n",
       "    <tr>\n",
       "      <th>51</th>\n",
       "      <td>Elizabeth</td>\n",
       "      <td>8</td>\n",
       "      <td>0</td>\n",
       "    </tr>\n",
       "    <tr>\n",
       "      <th>57</th>\n",
       "      <td>Jasmine G.</td>\n",
       "      <td>9</td>\n",
       "      <td>0</td>\n",
       "    </tr>\n",
       "    <tr>\n",
       "      <th>63</th>\n",
       "      <td>Raven</td>\n",
       "      <td>10</td>\n",
       "      <td>0</td>\n",
       "    </tr>\n",
       "    <tr>\n",
       "      <th>69</th>\n",
       "      <td>Kristina</td>\n",
       "      <td>11</td>\n",
       "      <td>0</td>\n",
       "    </tr>\n",
       "    <tr>\n",
       "      <th>76</th>\n",
       "      <td>Danielle M.</td>\n",
       "      <td>12</td>\n",
       "      <td>0</td>\n",
       "    </tr>\n",
       "    <tr>\n",
       "      <th>80</th>\n",
       "      <td>Sarah</td>\n",
       "      <td>13</td>\n",
       "      <td>0</td>\n",
       "    </tr>\n",
       "    <tr>\n",
       "      <th>84</th>\n",
       "      <td>Josephine</td>\n",
       "      <td>14</td>\n",
       "      <td>0</td>\n",
       "    </tr>\n",
       "    <tr>\n",
       "      <th>89</th>\n",
       "      <td>Lacey</td>\n",
       "      <td>15</td>\n",
       "      <td>0</td>\n",
       "    </tr>\n",
       "    <tr>\n",
       "      <th>94</th>\n",
       "      <td>Taylor</td>\n",
       "      <td>16</td>\n",
       "      <td>0</td>\n",
       "    </tr>\n",
       "    <tr>\n",
       "      <th>97</th>\n",
       "      <td>Alexis</td>\n",
       "      <td>17</td>\n",
       "      <td>0</td>\n",
       "    </tr>\n",
       "    <tr>\n",
       "      <th>101</th>\n",
       "      <td>Hailey</td>\n",
       "      <td>18</td>\n",
       "      <td>0</td>\n",
       "    </tr>\n",
       "    <tr>\n",
       "      <th>103</th>\n",
       "      <td>Whitney</td>\n",
       "      <td>19</td>\n",
       "      <td>0</td>\n",
       "    </tr>\n",
       "    <tr>\n",
       "      <th>106</th>\n",
       "      <td>Dominique</td>\n",
       "      <td>20</td>\n",
       "      <td>0</td>\n",
       "    </tr>\n",
       "    <tr>\n",
       "      <th>110</th>\n",
       "      <td>Jaimi</td>\n",
       "      <td>21</td>\n",
       "      <td>0</td>\n",
       "    </tr>\n",
       "    <tr>\n",
       "      <th>111</th>\n",
       "      <td>Brittany</td>\n",
       "      <td>22</td>\n",
       "      <td>0</td>\n",
       "    </tr>\n",
       "    <tr>\n",
       "      <th>112</th>\n",
       "      <td>Liz</td>\n",
       "      <td>23</td>\n",
       "      <td>0</td>\n",
       "    </tr>\n",
       "    <tr>\n",
       "      <th>114</th>\n",
       "      <td>Angela</td>\n",
       "      <td>24</td>\n",
       "      <td>0</td>\n",
       "    </tr>\n",
       "    <tr>\n",
       "      <th>115</th>\n",
       "      <td>Briana</td>\n",
       "      <td>24</td>\n",
       "      <td>0</td>\n",
       "    </tr>\n",
       "    <tr>\n",
       "      <th>116</th>\n",
       "      <td>Ida Marie</td>\n",
       "      <td>24</td>\n",
       "      <td>0</td>\n",
       "    </tr>\n",
       "    <tr>\n",
       "      <th>117</th>\n",
       "      <td>Jasmine B.</td>\n",
       "      <td>24</td>\n",
       "      <td>0</td>\n",
       "    </tr>\n",
       "    <tr>\n",
       "      <th>118</th>\n",
       "      <td>Lauren</td>\n",
       "      <td>24</td>\n",
       "      <td>0</td>\n",
       "    </tr>\n",
       "    <tr>\n",
       "      <th>119</th>\n",
       "      <td>Michelle</td>\n",
       "      <td>24</td>\n",
       "      <td>0</td>\n",
       "    </tr>\n",
       "    <tr>\n",
       "      <th>120</th>\n",
       "      <td>Olivia</td>\n",
       "      <td>24</td>\n",
       "      <td>0</td>\n",
       "    </tr>\n",
       "    <tr>\n",
       "      <th>121</th>\n",
       "      <td>Susannah</td>\n",
       "      <td>24</td>\n",
       "      <td>0</td>\n",
       "    </tr>\n",
       "  </tbody>\n",
       "</table>\n",
       "</div>"
      ],
      "text/plain": [
       "      contestant  rose_order  week\n",
       "0         Rachel           2     0\n",
       "10       Vanessa           3     0\n",
       "20   Danielle L.           4     0\n",
       "32      Christen           5     0\n",
       "39        Astrid           6     0\n",
       "45       Corinne           7     0\n",
       "51     Elizabeth           8     0\n",
       "57    Jasmine G.           9     0\n",
       "63         Raven          10     0\n",
       "69      Kristina          11     0\n",
       "76   Danielle M.          12     0\n",
       "80         Sarah          13     0\n",
       "84     Josephine          14     0\n",
       "89         Lacey          15     0\n",
       "94        Taylor          16     0\n",
       "97        Alexis          17     0\n",
       "101       Hailey          18     0\n",
       "103      Whitney          19     0\n",
       "106    Dominique          20     0\n",
       "110        Jaimi          21     0\n",
       "111     Brittany          22     0\n",
       "112          Liz          23     0\n",
       "114       Angela          24     0\n",
       "115       Briana          24     0\n",
       "116    Ida Marie          24     0\n",
       "117   Jasmine B.          24     0\n",
       "118       Lauren          24     0\n",
       "119     Michelle          24     0\n",
       "120       Olivia          24     0\n",
       "121     Susannah          24     0"
      ]
     },
     "execution_count": 63,
     "metadata": {},
     "output_type": "execute_result"
    }
   ],
   "source": [
    "df[df.week == 0]"
   ]
  },
  {
   "cell_type": "code",
   "execution_count": null,
   "metadata": {
    "collapsed": true
   },
   "outputs": [],
   "source": []
  }
 ],
 "metadata": {
  "kernelspec": {
   "display_name": "Python 3",
   "language": "python",
   "name": "python3"
  },
  "language_info": {
   "codemirror_mode": {
    "name": "ipython",
    "version": 3
   },
   "file_extension": ".py",
   "mimetype": "text/x-python",
   "name": "python",
   "nbconvert_exporter": "python",
   "pygments_lexer": "ipython3",
   "version": "3.6.10"
  }
 },
 "nbformat": 4,
 "nbformat_minor": 2
}
