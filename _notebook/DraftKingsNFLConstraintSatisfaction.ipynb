{
 "cells": [
  {
   "cell_type": "markdown",
   "metadata": {},
   "source": [
    "DraftKings NFL Constraint Satisfaction\n",
    "===\n",
    "\n",
    "This is the companion code to a [blog post](https://zwlevonian.medium.com/integer-linear-programming-with-pulp-optimizing-a-draftkings-nfl-lineup-5e7524dd42d3) I wrote on Medium."
   ]
  },
  {
   "cell_type": "code",
   "execution_count": 16,
   "metadata": {},
   "outputs": [],
   "source": [
    "import pandas as pd"
   ]
  },
  {
   "cell_type": "code",
   "execution_count": 17,
   "metadata": {},
   "outputs": [],
   "source": [
    "import pulp"
   ]
  },
  {
   "cell_type": "markdown",
   "metadata": {},
   "source": [
    "### Load in the weekly data"
   ]
  },
  {
   "cell_type": "code",
   "execution_count": 18,
   "metadata": {},
   "outputs": [
    {
     "data": {
      "text/plain": [
       "430"
      ]
     },
     "execution_count": 18,
     "metadata": {},
     "output_type": "execute_result"
    }
   ],
   "source": [
    "df = pd.read_csv('DKSalaries.csv')\n",
    "len(df)"
   ]
  },
  {
   "cell_type": "code",
   "execution_count": 19,
   "metadata": {},
   "outputs": [
    {
     "data": {
      "text/html": [
       "<div>\n",
       "<style scoped>\n",
       "    .dataframe tbody tr th:only-of-type {\n",
       "        vertical-align: middle;\n",
       "    }\n",
       "\n",
       "    .dataframe tbody tr th {\n",
       "        vertical-align: top;\n",
       "    }\n",
       "\n",
       "    .dataframe thead th {\n",
       "        text-align: right;\n",
       "    }\n",
       "</style>\n",
       "<table border=\"1\" class=\"dataframe\">\n",
       "  <thead>\n",
       "    <tr style=\"text-align: right;\">\n",
       "      <th></th>\n",
       "      <th>Position</th>\n",
       "      <th>Name + ID</th>\n",
       "      <th>Name</th>\n",
       "      <th>ID</th>\n",
       "      <th>Roster Position</th>\n",
       "      <th>Salary</th>\n",
       "      <th>Game Info</th>\n",
       "      <th>TeamAbbrev</th>\n",
       "      <th>AvgPointsPerGame</th>\n",
       "    </tr>\n",
       "  </thead>\n",
       "  <tbody>\n",
       "    <tr>\n",
       "      <th>63</th>\n",
       "      <td>RB</td>\n",
       "      <td>Melvin Gordon III (15713519)</td>\n",
       "      <td>Melvin Gordon III</td>\n",
       "      <td>15713519</td>\n",
       "      <td>RB/FLEX</td>\n",
       "      <td>5300</td>\n",
       "      <td>DEN@ATL 11/08/2020 01:00PM ET</td>\n",
       "      <td>DEN</td>\n",
       "      <td>15.72</td>\n",
       "    </tr>\n",
       "    <tr>\n",
       "      <th>325</th>\n",
       "      <td>WR</td>\n",
       "      <td>Tony Brown (15713863)</td>\n",
       "      <td>Tony Brown</td>\n",
       "      <td>15713863</td>\n",
       "      <td>WR/FLEX</td>\n",
       "      <td>3000</td>\n",
       "      <td>NYG@WAS 11/08/2020 01:00PM ET</td>\n",
       "      <td>WAS</td>\n",
       "      <td>0.00</td>\n",
       "    </tr>\n",
       "    <tr>\n",
       "      <th>395</th>\n",
       "      <td>TE</td>\n",
       "      <td>Josh Oliver (15714061)</td>\n",
       "      <td>Josh Oliver</td>\n",
       "      <td>15714061</td>\n",
       "      <td>TE/FLEX</td>\n",
       "      <td>2500</td>\n",
       "      <td>HOU@JAX 11/08/2020 01:00PM ET</td>\n",
       "      <td>JAX</td>\n",
       "      <td>0.00</td>\n",
       "    </tr>\n",
       "    <tr>\n",
       "      <th>213</th>\n",
       "      <td>RB</td>\n",
       "      <td>Senorise Perry (15713581)</td>\n",
       "      <td>Senorise Perry</td>\n",
       "      <td>15713581</td>\n",
       "      <td>RB/FLEX</td>\n",
       "      <td>4000</td>\n",
       "      <td>CHI@TEN 11/08/2020 01:00PM ET</td>\n",
       "      <td>TEN</td>\n",
       "      <td>0.45</td>\n",
       "    </tr>\n",
       "    <tr>\n",
       "      <th>169</th>\n",
       "      <td>RB</td>\n",
       "      <td>Qadree Ollison (15713661)</td>\n",
       "      <td>Qadree Ollison</td>\n",
       "      <td>15713661</td>\n",
       "      <td>RB/FLEX</td>\n",
       "      <td>4000</td>\n",
       "      <td>DEN@ATL 11/08/2020 01:00PM ET</td>\n",
       "      <td>ATL</td>\n",
       "      <td>0.30</td>\n",
       "    </tr>\n",
       "  </tbody>\n",
       "</table>\n",
       "</div>"
      ],
      "text/plain": [
       "    Position                     Name + ID               Name        ID  \\\n",
       "63        RB  Melvin Gordon III (15713519)  Melvin Gordon III  15713519   \n",
       "325       WR         Tony Brown (15713863)         Tony Brown  15713863   \n",
       "395       TE        Josh Oliver (15714061)        Josh Oliver  15714061   \n",
       "213       RB     Senorise Perry (15713581)     Senorise Perry  15713581   \n",
       "169       RB     Qadree Ollison (15713661)     Qadree Ollison  15713661   \n",
       "\n",
       "    Roster Position  Salary                      Game Info TeamAbbrev  \\\n",
       "63          RB/FLEX    5300  DEN@ATL 11/08/2020 01:00PM ET        DEN   \n",
       "325         WR/FLEX    3000  NYG@WAS 11/08/2020 01:00PM ET        WAS   \n",
       "395         TE/FLEX    2500  HOU@JAX 11/08/2020 01:00PM ET        JAX   \n",
       "213         RB/FLEX    4000  CHI@TEN 11/08/2020 01:00PM ET        TEN   \n",
       "169         RB/FLEX    4000  DEN@ATL 11/08/2020 01:00PM ET        ATL   \n",
       "\n",
       "     AvgPointsPerGame  \n",
       "63              15.72  \n",
       "325              0.00  \n",
       "395              0.00  \n",
       "213              0.45  \n",
       "169              0.30  "
      ]
     },
     "execution_count": 19,
     "metadata": {},
     "output_type": "execute_result"
    }
   ],
   "source": [
    "df.sample(n=5)"
   ]
  },
  {
   "cell_type": "code",
   "execution_count": 20,
   "metadata": {},
   "outputs": [
    {
     "data": {
      "text/plain": [
       "430"
      ]
     },
     "execution_count": 20,
     "metadata": {},
     "output_type": "execute_result"
    }
   ],
   "source": [
    "# trim any postponed games, since those can't be included in a lineup\n",
    "df = df[df['Game Info'] != 'Postponed']\n",
    "len(df)"
   ]
  },
  {
   "cell_type": "code",
   "execution_count": 21,
   "metadata": {},
   "outputs": [
    {
     "data": {
      "text/plain": [
       "429"
      ]
     },
     "execution_count": 21,
     "metadata": {},
     "output_type": "execute_result"
    }
   ],
   "source": [
    "exclude_list = ['Dak Prescott']\n",
    "df = df[~df['Name'].isin(exclude_list)]\n",
    "len(df)"
   ]
  },
  {
   "cell_type": "code",
   "execution_count": 22,
   "metadata": {},
   "outputs": [
    {
     "data": {
      "text/plain": [
       "249"
      ]
     },
     "execution_count": 22,
     "metadata": {},
     "output_type": "execute_result"
    }
   ],
   "source": [
    "# this is equivalent to an extra constraint that requires playing only players with a minimum cost\n",
    "# does not apply to DST, since that's kind of a special category\n",
    "df = df[(df.Salary >= 4000)|(df['Roster Position'] == 'DST')]\n",
    "len(df)"
   ]
  },
  {
   "cell_type": "markdown",
   "metadata": {},
   "source": [
    "### Create the constraint problem\n",
    "\n",
    "Goal: maximize AvgPointsPerGame\n",
    "\n",
    " - TotalPlayers = 9\n",
    " - TotalSalary <= 50000\n",
    " - TotalPosition_WR = 3\n",
    " - TotalPosition_RB = 2\n",
    " - TotalPosition_TE = 1\n",
    " - TotalPosition_QB = 1\n",
    " - TotalPosition_FLEX = 1\n",
    " - TotalPosition_DST = 1\n",
    " - Each player in only one position (relevant only for FLEX)\n",
    " "
   ]
  },
  {
   "cell_type": "code",
   "execution_count": 23,
   "metadata": {},
   "outputs": [],
   "source": [
    "prob = pulp.LpProblem('DK_NFL_weekly', pulp.LpMaximize)"
   ]
  },
  {
   "cell_type": "code",
   "execution_count": 24,
   "metadata": {},
   "outputs": [],
   "source": [
    "player_vars = [pulp.LpVariable(f'player_{row.ID}', cat='Binary') for row in df.itertuples()]"
   ]
  },
  {
   "cell_type": "code",
   "execution_count": 25,
   "metadata": {},
   "outputs": [],
   "source": [
    "# total assigned players constraint\n",
    "prob += pulp.lpSum(player_var for player_var in player_vars) == 9"
   ]
  },
  {
   "cell_type": "code",
   "execution_count": 26,
   "metadata": {},
   "outputs": [],
   "source": [
    "# position constraints\n",
    "# TODO fix this, currently won't work\n",
    "# as it makes the problem infeasible\n",
    "def get_position_sum(player_vars, df, position):\n",
    "    return pulp.lpSum([player_vars[i] * (position in df['Roster Position'].iloc[i]) for i in range(len(df))])\n",
    "    \n",
    "prob += get_position_sum(player_vars, df, 'QB') == 1\n",
    "prob += get_position_sum(player_vars, df, 'DST') == 1\n",
    "\n",
    "# to account for the FLEX position, we allow additional selections of the 3 FLEX-eligible roles\n",
    "prob += get_position_sum(player_vars, df, 'RB') >= 2\n",
    "prob += get_position_sum(player_vars, df, 'WR') >= 3\n",
    "prob += get_position_sum(player_vars, df, 'TE') >= 1"
   ]
  },
  {
   "cell_type": "code",
   "execution_count": 27,
   "metadata": {},
   "outputs": [],
   "source": [
    "# total salary constraint\n",
    "prob += pulp.lpSum(df.Salary.iloc[i] * player_vars[i] for i in range(len(df))) <= 50000"
   ]
  },
  {
   "cell_type": "code",
   "execution_count": 28,
   "metadata": {},
   "outputs": [],
   "source": [
    "# finally, specify the goal\n",
    "prob += pulp.lpSum([df.AvgPointsPerGame.iloc[i] * player_vars[i] for i in range(len(df))])"
   ]
  },
  {
   "cell_type": "code",
   "execution_count": 29,
   "metadata": {},
   "outputs": [
    {
     "name": "stdout",
     "output_type": "stream",
     "text": [
      "Optimal\n"
     ]
    }
   ],
   "source": [
    "# solve and print the status\n",
    "prob.solve()\n",
    "print(pulp.LpStatus[prob.status])"
   ]
  },
  {
   "cell_type": "code",
   "execution_count": 30,
   "metadata": {},
   "outputs": [
    {
     "name": "stdout",
     "output_type": "stream",
     "text": [
      "RB/FLEX Dalvin Cook MIN 8200 28.65\n",
      "QB Russell Wilson SEA 7600 32.01\n",
      "WR/FLEX Tyler Lockett SEA 6800 22.07\n",
      "WR/FLEX Corey Davis TEN 5900 17.98\n",
      "RB/FLEX Melvin Gordon III DEN 5300 15.72\n",
      "WR/FLEX CeeDee Lamb DAL 4900 14.21\n",
      "TE/FLEX Hunter Henry LAC 4000 9.63\n",
      "WR/FLEX Keelan Cole JAX 4000 12.37\n",
      "DST Colts  IND 3300 11.71\n"
     ]
    },
    {
     "data": {
      "text/plain": [
       "(50000, 164.35)"
      ]
     },
     "execution_count": 30,
     "metadata": {},
     "output_type": "execute_result"
    }
   ],
   "source": [
    "# for each of the player variables, \n",
    "total_salary_used = 0\n",
    "mean_AvgPointsPerGame = 0\n",
    "for i in range(len(df)):\n",
    "    if player_vars[i].value() == 1:\n",
    "        row = df.iloc[i]\n",
    "        print(row['Roster Position'], row.Name, row.TeamAbbrev, row.Salary, row.AvgPointsPerGame)\n",
    "        total_salary_used += row.Salary\n",
    "        mean_AvgPointsPerGame += row.AvgPointsPerGame\n",
    "#mean_AvgPointsPerGame /= 9  # divide by total players in roster to get a mean\n",
    "total_salary_used, mean_AvgPointsPerGame"
   ]
  },
  {
   "cell_type": "code",
   "execution_count": null,
   "metadata": {},
   "outputs": [],
   "source": []
  }
 ],
 "metadata": {
  "kernelspec": {
   "display_name": "Python 3",
   "language": "python",
   "name": "python3"
  },
  "language_info": {
   "codemirror_mode": {
    "name": "ipython",
    "version": 3
   },
   "file_extension": ".py",
   "mimetype": "text/x-python",
   "name": "python",
   "nbconvert_exporter": "python",
   "pygments_lexer": "ipython3",
   "version": "3.6.10"
  }
 },
 "nbformat": 4,
 "nbformat_minor": 4
}
