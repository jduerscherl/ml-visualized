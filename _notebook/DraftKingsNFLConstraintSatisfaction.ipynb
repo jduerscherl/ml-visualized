{
 "cells": [
  {
   "cell_type": "markdown",
   "metadata": {},
   "source": [
    "DraftKings NFL Constraint Satisfaction\n",
    "===\n",
    "\n",
    "See also [this blog post](https://levelup.gitconnected.com/dfs-lineup-optimizer-with-python-296e822a5309)."
   ]
  },
  {
   "cell_type": "code",
   "execution_count": 4,
   "metadata": {},
   "outputs": [],
   "source": [
    "import numpy as np\n",
    "import pandas as pd\n",
    "import matplotlib.pyplot as plt"
   ]
  },
  {
   "cell_type": "code",
   "execution_count": 5,
   "metadata": {},
   "outputs": [],
   "source": [
    "import os\n",
    "import sys\n",
    "from datetime import datetime"
   ]
  },
  {
   "cell_type": "code",
   "execution_count": 6,
   "metadata": {},
   "outputs": [],
   "source": [
    "import pulp"
   ]
  },
  {
   "cell_type": "markdown",
   "metadata": {},
   "source": [
    "### Load in the weekly data"
   ]
  },
  {
   "cell_type": "code",
   "execution_count": 87,
   "metadata": {},
   "outputs": [
    {
     "data": {
      "text/plain": [
       "476"
      ]
     },
     "execution_count": 87,
     "metadata": {},
     "output_type": "execute_result"
    }
   ],
   "source": [
    "df = pd.read_csv('DKSalaries.csv')\n",
    "len(df)"
   ]
  },
  {
   "cell_type": "code",
   "execution_count": 88,
   "metadata": {},
   "outputs": [
    {
     "data": {
      "text/html": [
       "<div>\n",
       "<style scoped>\n",
       "    .dataframe tbody tr th:only-of-type {\n",
       "        vertical-align: middle;\n",
       "    }\n",
       "\n",
       "    .dataframe tbody tr th {\n",
       "        vertical-align: top;\n",
       "    }\n",
       "\n",
       "    .dataframe thead th {\n",
       "        text-align: right;\n",
       "    }\n",
       "</style>\n",
       "<table border=\"1\" class=\"dataframe\">\n",
       "  <thead>\n",
       "    <tr style=\"text-align: right;\">\n",
       "      <th></th>\n",
       "      <th>Position</th>\n",
       "      <th>Name + ID</th>\n",
       "      <th>Name</th>\n",
       "      <th>ID</th>\n",
       "      <th>Roster Position</th>\n",
       "      <th>Salary</th>\n",
       "      <th>Game Info</th>\n",
       "      <th>TeamAbbrev</th>\n",
       "      <th>AvgPointsPerGame</th>\n",
       "    </tr>\n",
       "  </thead>\n",
       "  <tbody>\n",
       "    <tr>\n",
       "      <th>235</th>\n",
       "      <td>RB</td>\n",
       "      <td>Jalen Richard (15667795)</td>\n",
       "      <td>Jalen Richard</td>\n",
       "      <td>15667795</td>\n",
       "      <td>RB/FLEX</td>\n",
       "      <td>4000</td>\n",
       "      <td>TB@LV 10/25/2020 04:05PM ET</td>\n",
       "      <td>LV</td>\n",
       "      <td>5.38</td>\n",
       "    </tr>\n",
       "    <tr>\n",
       "      <th>439</th>\n",
       "      <td>TE</td>\n",
       "      <td>Sean McKeon (15642872)</td>\n",
       "      <td>Sean McKeon</td>\n",
       "      <td>15642872</td>\n",
       "      <td>TE/FLEX</td>\n",
       "      <td>2500</td>\n",
       "      <td>DAL@WAS 10/25/2020 01:00PM ET</td>\n",
       "      <td>DAL</td>\n",
       "      <td>0.00</td>\n",
       "    </tr>\n",
       "    <tr>\n",
       "      <th>267</th>\n",
       "      <td>TE</td>\n",
       "      <td>Greg Olsen (15642778)</td>\n",
       "      <td>Greg Olsen</td>\n",
       "      <td>15642778</td>\n",
       "      <td>TE/FLEX</td>\n",
       "      <td>3600</td>\n",
       "      <td>SEA@ARI 10/25/2020 08:20PM ET</td>\n",
       "      <td>SEA</td>\n",
       "      <td>7.00</td>\n",
       "    </tr>\n",
       "    <tr>\n",
       "      <th>249</th>\n",
       "      <td>RB</td>\n",
       "      <td>Jaylen Samuels (15642324)</td>\n",
       "      <td>Jaylen Samuels</td>\n",
       "      <td>15642324</td>\n",
       "      <td>RB/FLEX</td>\n",
       "      <td>4000</td>\n",
       "      <td>PIT@TEN 10/25/2020 01:00PM ET</td>\n",
       "      <td>PIT</td>\n",
       "      <td>0.93</td>\n",
       "    </tr>\n",
       "    <tr>\n",
       "      <th>313</th>\n",
       "      <td>WR</td>\n",
       "      <td>Chris Hogan (15642702)</td>\n",
       "      <td>Chris Hogan</td>\n",
       "      <td>15642702</td>\n",
       "      <td>WR/FLEX</td>\n",
       "      <td>3000</td>\n",
       "      <td>BUF@NYJ 10/25/2020 01:00PM ET</td>\n",
       "      <td>NYJ</td>\n",
       "      <td>5.16</td>\n",
       "    </tr>\n",
       "  </tbody>\n",
       "</table>\n",
       "</div>"
      ],
      "text/plain": [
       "    Position                  Name + ID            Name        ID  \\\n",
       "235       RB   Jalen Richard (15667795)   Jalen Richard  15667795   \n",
       "439       TE     Sean McKeon (15642872)     Sean McKeon  15642872   \n",
       "267       TE      Greg Olsen (15642778)      Greg Olsen  15642778   \n",
       "249       RB  Jaylen Samuels (15642324)  Jaylen Samuels  15642324   \n",
       "313       WR     Chris Hogan (15642702)     Chris Hogan  15642702   \n",
       "\n",
       "    Roster Position  Salary                      Game Info TeamAbbrev  \\\n",
       "235         RB/FLEX    4000    TB@LV 10/25/2020 04:05PM ET         LV   \n",
       "439         TE/FLEX    2500  DAL@WAS 10/25/2020 01:00PM ET        DAL   \n",
       "267         TE/FLEX    3600  SEA@ARI 10/25/2020 08:20PM ET        SEA   \n",
       "249         RB/FLEX    4000  PIT@TEN 10/25/2020 01:00PM ET        PIT   \n",
       "313         WR/FLEX    3000  BUF@NYJ 10/25/2020 01:00PM ET        NYJ   \n",
       "\n",
       "     AvgPointsPerGame  \n",
       "235              5.38  \n",
       "439              0.00  \n",
       "267              7.00  \n",
       "249              0.93  \n",
       "313              5.16  "
      ]
     },
     "execution_count": 88,
     "metadata": {},
     "output_type": "execute_result"
    }
   ],
   "source": [
    "df.sample(n=5)"
   ]
  },
  {
   "cell_type": "code",
   "execution_count": 89,
   "metadata": {},
   "outputs": [
    {
     "data": {
      "text/html": [
       "<div>\n",
       "<style scoped>\n",
       "    .dataframe tbody tr th:only-of-type {\n",
       "        vertical-align: middle;\n",
       "    }\n",
       "\n",
       "    .dataframe tbody tr th {\n",
       "        vertical-align: top;\n",
       "    }\n",
       "\n",
       "    .dataframe thead th {\n",
       "        text-align: right;\n",
       "    }\n",
       "</style>\n",
       "<table border=\"1\" class=\"dataframe\">\n",
       "  <thead>\n",
       "    <tr style=\"text-align: right;\">\n",
       "      <th></th>\n",
       "      <th>Position</th>\n",
       "      <th>Name + ID</th>\n",
       "      <th>Name</th>\n",
       "      <th>ID</th>\n",
       "      <th>Roster Position</th>\n",
       "      <th>Salary</th>\n",
       "      <th>Game Info</th>\n",
       "      <th>TeamAbbrev</th>\n",
       "      <th>AvgPointsPerGame</th>\n",
       "    </tr>\n",
       "  </thead>\n",
       "  <tbody>\n",
       "    <tr>\n",
       "      <th>89</th>\n",
       "      <td>QB</td>\n",
       "      <td>Dwayne Haskins Jr. (15642203)</td>\n",
       "      <td>Dwayne Haskins Jr.</td>\n",
       "      <td>15642203</td>\n",
       "      <td>QB</td>\n",
       "      <td>5000</td>\n",
       "      <td>DAL@WAS 10/25/2020 01:00PM ET</td>\n",
       "      <td>WAS</td>\n",
       "      <td>15.14</td>\n",
       "    </tr>\n",
       "  </tbody>\n",
       "</table>\n",
       "</div>"
      ],
      "text/plain": [
       "   Position                      Name + ID                Name        ID  \\\n",
       "89       QB  Dwayne Haskins Jr. (15642203)  Dwayne Haskins Jr.  15642203   \n",
       "\n",
       "   Roster Position  Salary                      Game Info TeamAbbrev  \\\n",
       "89              QB    5000  DAL@WAS 10/25/2020 01:00PM ET        WAS   \n",
       "\n",
       "    AvgPointsPerGame  \n",
       "89             15.14  "
      ]
     },
     "execution_count": 89,
     "metadata": {},
     "output_type": "execute_result"
    }
   ],
   "source": [
    "df[df.Name.map(lambda name: 'Haskins' in name)]"
   ]
  },
  {
   "cell_type": "code",
   "execution_count": 90,
   "metadata": {},
   "outputs": [
    {
     "data": {
      "text/plain": [
       "476"
      ]
     },
     "execution_count": 90,
     "metadata": {},
     "output_type": "execute_result"
    }
   ],
   "source": [
    "# trim any postponed games, since those can't be included in a lineup\n",
    "df = df[df['Game Info'] != 'Postponed']\n",
    "len(df)"
   ]
  },
  {
   "cell_type": "code",
   "execution_count": 91,
   "metadata": {},
   "outputs": [
    {
     "data": {
      "text/plain": [
       "471"
      ]
     },
     "execution_count": 91,
     "metadata": {},
     "output_type": "execute_result"
    }
   ],
   "source": [
    "exclude_list = ['Dwayne Haskins Jr.', 'Jamison Crowder', 'Allen Lazard', 'Aaron Jones', 'Dak Prescott']\n",
    "df = df[~df['Name'].isin(exclude_list)]\n",
    "len(df)"
   ]
  },
  {
   "cell_type": "code",
   "execution_count": 92,
   "metadata": {},
   "outputs": [
    {
     "data": {
      "text/plain": [
       "272"
      ]
     },
     "execution_count": 92,
     "metadata": {},
     "output_type": "execute_result"
    }
   ],
   "source": [
    "# this is equivalent to an extra constraint that requires playing only players with a minimum cost\n",
    "# does not apply to DST, since that's kind of a special category\n",
    "df = df[(df.Salary >= 4000)|(df['Roster Position'] == 'DST')]\n",
    "len(df)"
   ]
  },
  {
   "cell_type": "markdown",
   "metadata": {},
   "source": [
    "### Create the constraint problem\n",
    "\n",
    "Goal: maximize AvgPointsPerGame\n",
    "\n",
    " - TotalPlayers = 10\n",
    " - TotalSalary <= 50000\n",
    " - TotalPosition_WR = 3\n",
    " - TotalPosition_RB = 3\n",
    " - TotalPosition_TE = 1\n",
    " - TotalPosition_QB = 1\n",
    " - TotalPosition_FLEX = 1\n",
    " - TotalPosition_DST = 1\n",
    " - Each player in only one position (relevant only for FLEX)\n",
    " "
   ]
  },
  {
   "cell_type": "code",
   "execution_count": 93,
   "metadata": {},
   "outputs": [],
   "source": [
    "prob = pulp.LpProblem('DK_NFL_weekly', pulp.LpMaximize)"
   ]
  },
  {
   "cell_type": "code",
   "execution_count": 94,
   "metadata": {},
   "outputs": [],
   "source": [
    "player_vars = [pulp.LpVariable(f'player_{row.ID}', cat='Binary') for row in df.itertuples()]"
   ]
  },
  {
   "cell_type": "code",
   "execution_count": 95,
   "metadata": {},
   "outputs": [],
   "source": [
    "# total assigned players constraint\n",
    "prob += pulp.lpSum(player_var for player_var in player_vars) == 9"
   ]
  },
  {
   "cell_type": "code",
   "execution_count": 96,
   "metadata": {},
   "outputs": [],
   "source": [
    "# position constraints\n",
    "# TODO fix this, currently won't work\n",
    "# as it makes the problem infeasible\n",
    "def get_position_sum(player_vars, df, position):\n",
    "    return pulp.lpSum([player_vars[i] * (position in df['Roster Position'].iloc[i]) for i in range(len(df))])\n",
    "    \n",
    "prob += get_position_sum(player_vars, df, 'QB') == 1\n",
    "prob += get_position_sum(player_vars, df, 'DST') == 1\n",
    "\n",
    "# to account for the FLEX position, we allow additional selections of the 3 FLEX-eligible roles\n",
    "prob += get_position_sum(player_vars, df, 'RB') >= 2\n",
    "prob += get_position_sum(player_vars, df, 'WR') >= 3\n",
    "prob += get_position_sum(player_vars, df, 'TE') >= 1"
   ]
  },
  {
   "cell_type": "code",
   "execution_count": 97,
   "metadata": {},
   "outputs": [],
   "source": [
    "# total salary constraint\n",
    "prob += pulp.lpSum(df.Salary.iloc[i] * player_vars[i] for i in range(len(df))) <= 50000"
   ]
  },
  {
   "cell_type": "code",
   "execution_count": 98,
   "metadata": {},
   "outputs": [],
   "source": [
    "# finally, specify the goal\n",
    "prob += pulp.lpSum([df.AvgPointsPerGame.iloc[i] * player_vars[i] for i in range(len(df))])"
   ]
  },
  {
   "cell_type": "code",
   "execution_count": 99,
   "metadata": {},
   "outputs": [
    {
     "data": {
      "text/plain": [
       "1"
      ]
     },
     "execution_count": 99,
     "metadata": {},
     "output_type": "execute_result"
    }
   ],
   "source": [
    "prob.solve()"
   ]
  },
  {
   "cell_type": "code",
   "execution_count": 100,
   "metadata": {},
   "outputs": [
    {
     "data": {
      "text/plain": [
       "'Optimal'"
      ]
     },
     "execution_count": 100,
     "metadata": {},
     "output_type": "execute_result"
    }
   ],
   "source": [
    "pulp.LpStatus[prob.status]"
   ]
  },
  {
   "cell_type": "code",
   "execution_count": 101,
   "metadata": {},
   "outputs": [
    {
     "name": "stdout",
     "output_type": "stream",
     "text": [
      "QB Russell Wilson SEA 8000 31.88\n",
      "RB/FLEX Alvin Kamara NO 7900 30.12\n",
      "TE/FLEX George Kittle SF 6500 21.92\n",
      "WR/FLEX Chase Claypool PIT 5700 18.32\n",
      "RB/FLEX Melvin Gordon III DEN 5500 17.4\n",
      "WR/FLEX Corey Davis TEN 4800 14.87\n",
      "TE/FLEX Jonnu Smith TEN 4700 14.48\n",
      "WR/FLEX Tim Patrick DEN 4600 13.8\n",
      "DST Cardinals  ARI 2300 7.0\n"
     ]
    },
    {
     "data": {
      "text/plain": [
       "(50000, 16.979000000000003)"
      ]
     },
     "execution_count": 101,
     "metadata": {},
     "output_type": "execute_result"
    }
   ],
   "source": [
    "total_salary_used = 0\n",
    "mean_AvgPointsPerGame = 0\n",
    "for i in range(len(df)):\n",
    "    if player_vars[i].value() == 1:\n",
    "        row = df.iloc[i]\n",
    "        print(row['Roster Position'], row.Name, row.TeamAbbrev, row.Salary, row.AvgPointsPerGame)\n",
    "        total_salary_used += row.Salary\n",
    "        mean_AvgPointsPerGame += row.AvgPointsPerGame\n",
    "mean_AvgPointsPerGame /= 10  # divide by total players in roster to get a mean\n",
    "total_salary_used, mean_AvgPointsPerGame"
   ]
  },
  {
   "cell_type": "code",
   "execution_count": null,
   "metadata": {},
   "outputs": [],
   "source": []
  },
  {
   "cell_type": "code",
   "execution_count": null,
   "metadata": {},
   "outputs": [],
   "source": []
  }
 ],
 "metadata": {
  "kernelspec": {
   "display_name": "Python 3",
   "language": "python",
   "name": "python3"
  },
  "language_info": {
   "codemirror_mode": {
    "name": "ipython",
    "version": 3
   },
   "file_extension": ".py",
   "mimetype": "text/x-python",
   "name": "python",
   "nbconvert_exporter": "python",
   "pygments_lexer": "ipython3",
   "version": "3.6.10"
  }
 },
 "nbformat": 4,
 "nbformat_minor": 4
}
