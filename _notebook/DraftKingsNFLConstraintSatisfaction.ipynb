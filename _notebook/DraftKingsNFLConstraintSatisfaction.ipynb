{
 "cells": [
  {
   "cell_type": "markdown",
   "metadata": {},
   "source": [
    "DraftKings NFL Constraint Satisfaction\n",
    "===\n",
    "\n",
    "See also [this blog post](https://levelup.gitconnected.com/dfs-lineup-optimizer-with-python-296e822a5309)."
   ]
  },
  {
   "cell_type": "code",
   "execution_count": 107,
   "metadata": {},
   "outputs": [],
   "source": [
    "import numpy as np\n",
    "import pandas as pd\n",
    "import matplotlib.pyplot as plt"
   ]
  },
  {
   "cell_type": "code",
   "execution_count": 2,
   "metadata": {},
   "outputs": [],
   "source": [
    "import os\n",
    "import sys\n",
    "from datetime import datetime"
   ]
  },
  {
   "cell_type": "code",
   "execution_count": 3,
   "metadata": {},
   "outputs": [],
   "source": [
    "import pulp"
   ]
  },
  {
   "cell_type": "markdown",
   "metadata": {},
   "source": [
    "### Load in the weekly data"
   ]
  },
  {
   "cell_type": "code",
   "execution_count": 94,
   "metadata": {},
   "outputs": [
    {
     "data": {
      "text/plain": [
       "470"
      ]
     },
     "execution_count": 94,
     "metadata": {},
     "output_type": "execute_result"
    }
   ],
   "source": [
    "df = pd.read_csv('DKSalaries.csv')\n",
    "len(df)"
   ]
  },
  {
   "cell_type": "code",
   "execution_count": 95,
   "metadata": {},
   "outputs": [
    {
     "data": {
      "text/html": [
       "<div>\n",
       "<style scoped>\n",
       "    .dataframe tbody tr th:only-of-type {\n",
       "        vertical-align: middle;\n",
       "    }\n",
       "\n",
       "    .dataframe tbody tr th {\n",
       "        vertical-align: top;\n",
       "    }\n",
       "\n",
       "    .dataframe thead th {\n",
       "        text-align: right;\n",
       "    }\n",
       "</style>\n",
       "<table border=\"1\" class=\"dataframe\">\n",
       "  <thead>\n",
       "    <tr style=\"text-align: right;\">\n",
       "      <th></th>\n",
       "      <th>Position</th>\n",
       "      <th>Name + ID</th>\n",
       "      <th>Name</th>\n",
       "      <th>ID</th>\n",
       "      <th>Roster Position</th>\n",
       "      <th>Salary</th>\n",
       "      <th>Game Info</th>\n",
       "      <th>TeamAbbrev</th>\n",
       "      <th>AvgPointsPerGame</th>\n",
       "    </tr>\n",
       "  </thead>\n",
       "  <tbody>\n",
       "    <tr>\n",
       "      <th>96</th>\n",
       "      <td>QB</td>\n",
       "      <td>Jarrett Stidham (15560246)</td>\n",
       "      <td>Jarrett Stidham</td>\n",
       "      <td>15560246</td>\n",
       "      <td>QB</td>\n",
       "      <td>4900</td>\n",
       "      <td>Postponed</td>\n",
       "      <td>NE</td>\n",
       "      <td>4.70</td>\n",
       "    </tr>\n",
       "    <tr>\n",
       "      <th>371</th>\n",
       "      <td>WR</td>\n",
       "      <td>Mohamed Sanu (15560712)</td>\n",
       "      <td>Mohamed Sanu</td>\n",
       "      <td>15560712</td>\n",
       "      <td>WR/FLEX</td>\n",
       "      <td>3000</td>\n",
       "      <td>MIA@SF 10/11/2020 04:05PM ET</td>\n",
       "      <td>SF</td>\n",
       "      <td>0.63</td>\n",
       "    </tr>\n",
       "    <tr>\n",
       "      <th>74</th>\n",
       "      <td>WR</td>\n",
       "      <td>Michael Gallup (15560558)</td>\n",
       "      <td>Michael Gallup</td>\n",
       "      <td>15560558</td>\n",
       "      <td>WR/FLEX</td>\n",
       "      <td>5400</td>\n",
       "      <td>NYG@DAL 10/11/2020 04:25PM ET</td>\n",
       "      <td>DAL</td>\n",
       "      <td>12.38</td>\n",
       "    </tr>\n",
       "    <tr>\n",
       "      <th>40</th>\n",
       "      <td>RB</td>\n",
       "      <td>Jonathan Taylor (15560306)</td>\n",
       "      <td>Jonathan Taylor</td>\n",
       "      <td>15560306</td>\n",
       "      <td>RB/FLEX</td>\n",
       "      <td>6200</td>\n",
       "      <td>IND@CLE 10/11/2020 04:25PM ET</td>\n",
       "      <td>IND</td>\n",
       "      <td>14.75</td>\n",
       "    </tr>\n",
       "    <tr>\n",
       "      <th>149</th>\n",
       "      <td>WR</td>\n",
       "      <td>N'Keal Harry (15560618)</td>\n",
       "      <td>N'Keal Harry</td>\n",
       "      <td>15560618</td>\n",
       "      <td>WR/FLEX</td>\n",
       "      <td>4300</td>\n",
       "      <td>Postponed</td>\n",
       "      <td>NE</td>\n",
       "      <td>9.95</td>\n",
       "    </tr>\n",
       "  </tbody>\n",
       "</table>\n",
       "</div>"
      ],
      "text/plain": [
       "    Position                   Name + ID             Name        ID  \\\n",
       "96        QB  Jarrett Stidham (15560246)  Jarrett Stidham  15560246   \n",
       "371       WR     Mohamed Sanu (15560712)     Mohamed Sanu  15560712   \n",
       "74        WR   Michael Gallup (15560558)   Michael Gallup  15560558   \n",
       "40        RB  Jonathan Taylor (15560306)  Jonathan Taylor  15560306   \n",
       "149       WR     N'Keal Harry (15560618)     N'Keal Harry  15560618   \n",
       "\n",
       "    Roster Position  Salary                      Game Info TeamAbbrev  \\\n",
       "96               QB    4900                      Postponed         NE   \n",
       "371         WR/FLEX    3000   MIA@SF 10/11/2020 04:05PM ET         SF   \n",
       "74          WR/FLEX    5400  NYG@DAL 10/11/2020 04:25PM ET        DAL   \n",
       "40          RB/FLEX    6200  IND@CLE 10/11/2020 04:25PM ET        IND   \n",
       "149         WR/FLEX    4300                      Postponed         NE   \n",
       "\n",
       "     AvgPointsPerGame  \n",
       "96               4.70  \n",
       "371              0.63  \n",
       "74              12.38  \n",
       "40              14.75  \n",
       "149              9.95  "
      ]
     },
     "execution_count": 95,
     "metadata": {},
     "output_type": "execute_result"
    }
   ],
   "source": [
    "df.sample(n=5)"
   ]
  },
  {
   "cell_type": "code",
   "execution_count": 96,
   "metadata": {},
   "outputs": [
    {
     "data": {
      "text/plain": [
       "391"
      ]
     },
     "execution_count": 96,
     "metadata": {},
     "output_type": "execute_result"
    }
   ],
   "source": [
    "# trim any postponed games, since those can't be included in a lineup\n",
    "df = df[df['Game Info'] != 'Postponed']\n",
    "len(df)"
   ]
  },
  {
   "cell_type": "code",
   "execution_count": 97,
   "metadata": {},
   "outputs": [
    {
     "data": {
      "text/plain": [
       "132"
      ]
     },
     "execution_count": 97,
     "metadata": {},
     "output_type": "execute_result"
    }
   ],
   "source": [
    "# this is equivalent to an extra constraint that requires playing only players with a minimum cost\n",
    "# does not apply to DST, since that's kind of a special category\n",
    "df = df[(df.Salary >= 4000)|(df['Roster Position'] == 'DST')]\n",
    "len(df)"
   ]
  },
  {
   "cell_type": "markdown",
   "metadata": {},
   "source": [
    "### Create the constraint problem\n",
    "\n",
    "Goal: maximize AvgPointsPerGame\n",
    "\n",
    " - TotalPlayers = 10\n",
    " - TotalSalary <= 50000\n",
    " - TotalPosition_WR = 3\n",
    " - TotalPosition_RB = 3\n",
    " - TotalPosition_TE = 1\n",
    " - TotalPosition_QB = 1\n",
    " - TotalPosition_FLEX = 1\n",
    " - TotalPosition_DST = 1\n",
    " - Each player in only one position (relevant only for FLEX)\n",
    " "
   ]
  },
  {
   "cell_type": "code",
   "execution_count": 98,
   "metadata": {},
   "outputs": [],
   "source": [
    "prob = pulp.LpProblem('DK_NFL_weekly', pulp.LpMaximize)"
   ]
  },
  {
   "cell_type": "code",
   "execution_count": 99,
   "metadata": {},
   "outputs": [],
   "source": [
    "player_vars = [pulp.LpVariable(f'player_{row.ID}', cat='Binary') for row in df.itertuples()]"
   ]
  },
  {
   "cell_type": "code",
   "execution_count": 100,
   "metadata": {},
   "outputs": [],
   "source": [
    "# total assigned players constraint\n",
    "prob += pulp.lpSum(player_var for player_var in player_vars) == 10"
   ]
  },
  {
   "cell_type": "code",
   "execution_count": 101,
   "metadata": {},
   "outputs": [],
   "source": [
    "# position constraints\n",
    "# TODO fix this, currently won't work\n",
    "# as it makes the problem infeasible\n",
    "def get_position_sum(player_vars, df, position):\n",
    "    return pulp.lpSum([player_vars[i] * (position in df['Roster Position'].iloc[i]) for i in range(len(df))])\n",
    "    \n",
    "prob += get_position_sum(player_vars, df, 'QB') == 1\n",
    "prob += get_position_sum(player_vars, df, 'DST') == 1\n",
    "\n",
    "# to account for the FLEX position, we allow additional selections of the 3 FLEX-eligible roles\n",
    "prob += get_position_sum(player_vars, df, 'RB') >= 3\n",
    "prob += get_position_sum(player_vars, df, 'WR') >= 3\n",
    "prob += get_position_sum(player_vars, df, 'TE') >= 1"
   ]
  },
  {
   "cell_type": "code",
   "execution_count": 102,
   "metadata": {},
   "outputs": [],
   "source": [
    "# total salary constraint\n",
    "prob += pulp.lpSum(df.Salary.iloc[i] * player_vars[i] for i in range(len(df))) <= 50000"
   ]
  },
  {
   "cell_type": "code",
   "execution_count": 103,
   "metadata": {},
   "outputs": [],
   "source": [
    "# finally, specify the goal\n",
    "prob += pulp.lpSum([df.AvgPointsPerGame.iloc[i] * player_vars[i] for i in range(len(df))])"
   ]
  },
  {
   "cell_type": "code",
   "execution_count": 104,
   "metadata": {},
   "outputs": [
    {
     "data": {
      "text/plain": [
       "1"
      ]
     },
     "execution_count": 104,
     "metadata": {},
     "output_type": "execute_result"
    }
   ],
   "source": [
    "prob.solve()"
   ]
  },
  {
   "cell_type": "code",
   "execution_count": 105,
   "metadata": {},
   "outputs": [
    {
     "data": {
      "text/plain": [
       "'Optimal'"
      ]
     },
     "execution_count": 105,
     "metadata": {},
     "output_type": "execute_result"
    }
   ],
   "source": [
    "pulp.LpStatus[prob.status]"
   ]
  },
  {
   "cell_type": "code",
   "execution_count": 106,
   "metadata": {},
   "outputs": [
    {
     "name": "stdout",
     "output_type": "stream",
     "text": [
      "TE/FLEX George Kittle SF 6600 26.2\n",
      "RB/FLEX Raheem Mostert SF 6100 21.9\n",
      "WR/FLEX Jamison Crowder NYJ 5800 23.95\n",
      "QB Ryan Fitzpatrick MIA 5600 21.82\n",
      "RB/FLEX Antonio Gibson WAS 5000 13.85\n",
      "RB/FLEX Myles Gaskin MIA 4800 12.12\n",
      "WR/FLEX Keelan Cole JAX 4700 12.6\n",
      "WR/FLEX Laviska Shenault Jr. JAX 4500 11.6\n",
      "WR/FLEX Sammy Watkins KC 4500 11.02\n",
      "DST Dolphins  MIA 2400 5.25\n"
     ]
    },
    {
     "data": {
      "text/plain": [
       "(50000, 16.031)"
      ]
     },
     "execution_count": 106,
     "metadata": {},
     "output_type": "execute_result"
    }
   ],
   "source": [
    "total_salary_used = 0\n",
    "mean_AvgPointsPerGame = 0\n",
    "for i in range(len(df)):\n",
    "    if player_vars[i].value() == 1:\n",
    "        row = df.iloc[i]\n",
    "        print(row['Roster Position'], row.Name, row.TeamAbbrev, row.Salary, row.AvgPointsPerGame)\n",
    "        total_salary_used += row.Salary\n",
    "        mean_AvgPointsPerGame += row.AvgPointsPerGame\n",
    "mean_AvgPointsPerGame /= 10  # divide by total players in roster to get a mean\n",
    "total_salary_used, mean_AvgPointsPerGame"
   ]
  },
  {
   "cell_type": "code",
   "execution_count": null,
   "metadata": {},
   "outputs": [],
   "source": []
  },
  {
   "cell_type": "code",
   "execution_count": null,
   "metadata": {},
   "outputs": [],
   "source": []
  }
 ],
 "metadata": {
  "kernelspec": {
   "display_name": "Python 3",
   "language": "python",
   "name": "python3"
  },
  "language_info": {
   "codemirror_mode": {
    "name": "ipython",
    "version": 3
   },
   "file_extension": ".py",
   "mimetype": "text/x-python",
   "name": "python",
   "nbconvert_exporter": "python",
   "pygments_lexer": "ipython3",
   "version": "3.6.10"
  }
 },
 "nbformat": 4,
 "nbformat_minor": 4
}
