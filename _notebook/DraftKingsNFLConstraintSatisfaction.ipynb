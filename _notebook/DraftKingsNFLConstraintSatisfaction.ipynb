{
 "cells": [
  {
   "cell_type": "markdown",
   "metadata": {},
   "source": [
    "DraftKings NFL Constraint Satisfaction\n",
    "===\n",
    "\n",
    "See also [this blog post](https://levelup.gitconnected.com/dfs-lineup-optimizer-with-python-296e822a5309)."
   ]
  },
  {
   "cell_type": "code",
   "execution_count": 4,
   "metadata": {},
   "outputs": [],
   "source": [
    "import numpy as np\n",
    "import pandas as pd\n",
    "import matplotlib.pyplot as plt"
   ]
  },
  {
   "cell_type": "code",
   "execution_count": 37,
   "metadata": {},
   "outputs": [],
   "source": [
    "import os\n",
    "import sys\n",
    "from datetime import datetime"
   ]
  },
  {
   "cell_type": "code",
   "execution_count": 6,
   "metadata": {},
   "outputs": [],
   "source": [
    "import pulp"
   ]
  },
  {
   "cell_type": "markdown",
   "metadata": {},
   "source": [
    "### Load in the weekly data"
   ]
  },
  {
   "cell_type": "code",
   "execution_count": 11,
   "metadata": {},
   "outputs": [
    {
     "data": {
      "text/plain": [
       "470"
      ]
     },
     "execution_count": 11,
     "metadata": {},
     "output_type": "execute_result"
    }
   ],
   "source": [
    "df = pd.read_csv('DKSalaries.csv')\n",
    "len(df)"
   ]
  },
  {
   "cell_type": "code",
   "execution_count": 12,
   "metadata": {},
   "outputs": [
    {
     "data": {
      "text/html": [
       "<div>\n",
       "<style scoped>\n",
       "    .dataframe tbody tr th:only-of-type {\n",
       "        vertical-align: middle;\n",
       "    }\n",
       "\n",
       "    .dataframe tbody tr th {\n",
       "        vertical-align: top;\n",
       "    }\n",
       "\n",
       "    .dataframe thead th {\n",
       "        text-align: right;\n",
       "    }\n",
       "</style>\n",
       "<table border=\"1\" class=\"dataframe\">\n",
       "  <thead>\n",
       "    <tr style=\"text-align: right;\">\n",
       "      <th></th>\n",
       "      <th>Position</th>\n",
       "      <th>Name + ID</th>\n",
       "      <th>Name</th>\n",
       "      <th>ID</th>\n",
       "      <th>Roster Position</th>\n",
       "      <th>Salary</th>\n",
       "      <th>Game Info</th>\n",
       "      <th>TeamAbbrev</th>\n",
       "      <th>AvgPointsPerGame</th>\n",
       "    </tr>\n",
       "  </thead>\n",
       "  <tbody>\n",
       "    <tr>\n",
       "      <th>211</th>\n",
       "      <td>WR</td>\n",
       "      <td>Adam Humphries (15589125)</td>\n",
       "      <td>Adam Humphries</td>\n",
       "      <td>15589125</td>\n",
       "      <td>WR/FLEX</td>\n",
       "      <td>4000</td>\n",
       "      <td>Postponed</td>\n",
       "      <td>TEN</td>\n",
       "      <td>11.53</td>\n",
       "    </tr>\n",
       "    <tr>\n",
       "      <th>366</th>\n",
       "      <td>WR</td>\n",
       "      <td>Keelan Doss (15560732)</td>\n",
       "      <td>Keelan Doss</td>\n",
       "      <td>15560732</td>\n",
       "      <td>WR/FLEX</td>\n",
       "      <td>3000</td>\n",
       "      <td>LV@KC 10/11/2020 01:00PM ET</td>\n",
       "      <td>LV</td>\n",
       "      <td>0.00</td>\n",
       "    </tr>\n",
       "    <tr>\n",
       "      <th>193</th>\n",
       "      <td>RB</td>\n",
       "      <td>Brian Hill (15560484)</td>\n",
       "      <td>Brian Hill</td>\n",
       "      <td>15560484</td>\n",
       "      <td>RB/FLEX</td>\n",
       "      <td>4000</td>\n",
       "      <td>CAR@ATL 10/11/2020 01:00PM ET</td>\n",
       "      <td>ATL</td>\n",
       "      <td>6.95</td>\n",
       "    </tr>\n",
       "    <tr>\n",
       "      <th>434</th>\n",
       "      <td>TE</td>\n",
       "      <td>Reggie Gilliam (15561000)</td>\n",
       "      <td>Reggie Gilliam</td>\n",
       "      <td>15561000</td>\n",
       "      <td>TE/FLEX</td>\n",
       "      <td>2500</td>\n",
       "      <td>Postponed</td>\n",
       "      <td>BUF</td>\n",
       "      <td>1.78</td>\n",
       "    </tr>\n",
       "    <tr>\n",
       "      <th>29</th>\n",
       "      <td>RB</td>\n",
       "      <td>Melvin Gordon III (15560298)</td>\n",
       "      <td>Melvin Gordon III</td>\n",
       "      <td>15560298</td>\n",
       "      <td>RB/FLEX</td>\n",
       "      <td>6400</td>\n",
       "      <td>Postponed</td>\n",
       "      <td>DEN</td>\n",
       "      <td>17.40</td>\n",
       "    </tr>\n",
       "  </tbody>\n",
       "</table>\n",
       "</div>"
      ],
      "text/plain": [
       "    Position                     Name + ID               Name        ID  \\\n",
       "211       WR     Adam Humphries (15589125)     Adam Humphries  15589125   \n",
       "366       WR        Keelan Doss (15560732)        Keelan Doss  15560732   \n",
       "193       RB         Brian Hill (15560484)         Brian Hill  15560484   \n",
       "434       TE     Reggie Gilliam (15561000)     Reggie Gilliam  15561000   \n",
       "29        RB  Melvin Gordon III (15560298)  Melvin Gordon III  15560298   \n",
       "\n",
       "    Roster Position  Salary                      Game Info TeamAbbrev  \\\n",
       "211         WR/FLEX    4000                      Postponed        TEN   \n",
       "366         WR/FLEX    3000    LV@KC 10/11/2020 01:00PM ET         LV   \n",
       "193         RB/FLEX    4000  CAR@ATL 10/11/2020 01:00PM ET        ATL   \n",
       "434         TE/FLEX    2500                      Postponed        BUF   \n",
       "29          RB/FLEX    6400                      Postponed        DEN   \n",
       "\n",
       "     AvgPointsPerGame  \n",
       "211             11.53  \n",
       "366              0.00  \n",
       "193              6.95  \n",
       "434              1.78  \n",
       "29              17.40  "
      ]
     },
     "execution_count": 12,
     "metadata": {},
     "output_type": "execute_result"
    }
   ],
   "source": [
    "df.sample(n=5)"
   ]
  },
  {
   "cell_type": "code",
   "execution_count": 13,
   "metadata": {},
   "outputs": [
    {
     "data": {
      "text/plain": [
       "391"
      ]
     },
     "execution_count": 13,
     "metadata": {},
     "output_type": "execute_result"
    }
   ],
   "source": [
    "# trim any postponed games, since those can't be included in a lineup\n",
    "df = df[df['Game Info'] != 'Postponed']\n",
    "len(df)"
   ]
  },
  {
   "cell_type": "code",
   "execution_count": null,
   "metadata": {},
   "outputs": [],
   "source": []
  },
  {
   "cell_type": "markdown",
   "metadata": {},
   "source": [
    "### Create the constraint problem\n",
    "\n",
    "Goal: maximize AvgPointsPerGame\n",
    "\n",
    " - TotalPlayers = 10\n",
    " - TotalSalary <= 50000\n",
    " - TotalPosition_WR = 3\n",
    " - TotalPosition_RB = 3\n",
    " - TotalPosition_TE = 1\n",
    " - TotalPosition_QB = 1\n",
    " - TotalPosition_FLEX = 1\n",
    " - TotalPosition_DST = 1\n",
    " - Each player in only one position (relevant only for FLEX)\n",
    " "
   ]
  },
  {
   "cell_type": "code",
   "execution_count": 80,
   "metadata": {},
   "outputs": [],
   "source": [
    "prob = pulp.LpProblem('DK_NFL_weekly', pulp.LpMaximize)"
   ]
  },
  {
   "cell_type": "code",
   "execution_count": 81,
   "metadata": {},
   "outputs": [],
   "source": [
    "player_vars = [pulp.LpVariable(f'player_{row.ID}', cat='Binary') for row in df.itertuples()]"
   ]
  },
  {
   "cell_type": "code",
   "execution_count": 82,
   "metadata": {},
   "outputs": [],
   "source": [
    "# total assigned players constraint\n",
    "prob += pulp.lpSum(player_var for player_var in player_vars) == 10"
   ]
  },
  {
   "cell_type": "code",
   "execution_count": 83,
   "metadata": {},
   "outputs": [],
   "source": [
    "# position constraints\n",
    "# TODO fix this, currently won't work\n",
    "# as it makes the problem infeasible\n",
    "def get_position_sum(player_vars, df, position):\n",
    "    return pulp.lpSum([player_vars[i] * (position in df['Roster Position'].iloc[i]) for i in range(len(df))])\n",
    "    \n",
    "prob += get_position_sum(player_vars, df, 'QB') == 1\n",
    "prob += get_position_sum(player_vars, df, 'WR') == 3\n",
    "prob += get_position_sum(player_vars, df, 'RB') == 3\n",
    "#prob += get_position_sum(player_vars, df, 'TE') == 1\n",
    "#prob += get_position_sum(player_vars, df, 'FLEX') == 1\n",
    "prob += get_position_sum(player_vars, df, 'DST') == 1"
   ]
  },
  {
   "cell_type": "code",
   "execution_count": 84,
   "metadata": {},
   "outputs": [],
   "source": [
    "# total salary constraint\n",
    "prob += pulp.lpSum(df.Salary.iloc[i] * player_vars[i] for i in range(len(df))) <= 50000"
   ]
  },
  {
   "cell_type": "code",
   "execution_count": 85,
   "metadata": {},
   "outputs": [],
   "source": [
    "# finally, specify the goal\n",
    "prob += pulp.lpSum([df.AvgPointsPerGame.iloc[i] * player_vars[i] for i in range(len(df))])"
   ]
  },
  {
   "cell_type": "code",
   "execution_count": 86,
   "metadata": {},
   "outputs": [
    {
     "data": {
      "text/plain": [
       "1"
      ]
     },
     "execution_count": 86,
     "metadata": {},
     "output_type": "execute_result"
    }
   ],
   "source": [
    "prob.solve()"
   ]
  },
  {
   "cell_type": "code",
   "execution_count": 87,
   "metadata": {},
   "outputs": [
    {
     "data": {
      "text/plain": [
       "'Optimal'"
      ]
     },
     "execution_count": 87,
     "metadata": {},
     "output_type": "execute_result"
    }
   ],
   "source": [
    "pulp.LpStatus[prob.status]"
   ]
  },
  {
   "cell_type": "code",
   "execution_count": 88,
   "metadata": {},
   "outputs": [
    {
     "name": "stdout",
     "output_type": "stream",
     "text": [
      "QB Dak Prescott DAL 7400 34.3\n",
      "TE/FLEX George Kittle SF 6600 26.2\n",
      "RB/FLEX Joe Mixon CIN 6300 18.32\n",
      "RB/FLEX Raheem Mostert SF 6100 21.9\n",
      "WR/FLEX Jamison Crowder NYJ 5800 23.95\n",
      "RB/FLEX Jerick McKinnon SF 5800 16.62\n",
      "DST Colts  IND 3300 13.0\n",
      "WR/FLEX Jeff Smith NYJ 3000 15.1\n",
      "WR/FLEX Travis Fulgham PHI 3000 13.7\n",
      "TE/FLEX C.J. Uzomah CIN 2500 11.35\n"
     ]
    },
    {
     "data": {
      "text/plain": [
       "49800"
      ]
     },
     "execution_count": 88,
     "metadata": {},
     "output_type": "execute_result"
    }
   ],
   "source": [
    "total_salary_used = 0\n",
    "for i in range(len(df)):\n",
    "    if player_vars[i].value() == 1:\n",
    "        row = df.iloc[i]\n",
    "        print(row['Roster Position'], row.Name, row.TeamAbbrev, row.Salary, row.AvgPointsPerGame)\n",
    "        total_salary_used += row.Salary\n",
    "total_salary_used"
   ]
  },
  {
   "cell_type": "code",
   "execution_count": null,
   "metadata": {},
   "outputs": [],
   "source": []
  },
  {
   "cell_type": "code",
   "execution_count": null,
   "metadata": {},
   "outputs": [],
   "source": []
  }
 ],
 "metadata": {
  "kernelspec": {
   "display_name": "Python 3",
   "language": "python",
   "name": "python3"
  },
  "language_info": {
   "codemirror_mode": {
    "name": "ipython",
    "version": 3
   },
   "file_extension": ".py",
   "mimetype": "text/x-python",
   "name": "python",
   "nbconvert_exporter": "python",
   "pygments_lexer": "ipython3",
   "version": "3.6.10"
  }
 },
 "nbformat": 4,
 "nbformat_minor": 4
}
