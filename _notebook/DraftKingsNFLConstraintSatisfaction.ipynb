{
 "cells": [
  {
   "cell_type": "markdown",
   "metadata": {},
   "source": [
    "DraftKings NFL Constraint Satisfaction\n",
    "===\n",
    "\n",
    "This is the companion code to a [blog post](https://zwlevonian.medium.com/integer-linear-programming-with-pulp-optimizing-a-draftkings-nfl-lineup-5e7524dd42d3) I wrote on Medium."
   ]
  },
  {
   "cell_type": "code",
   "execution_count": 1,
   "metadata": {},
   "outputs": [],
   "source": [
    "import pandas as pd"
   ]
  },
  {
   "cell_type": "code",
   "execution_count": 2,
   "metadata": {},
   "outputs": [],
   "source": [
    "import pulp"
   ]
  },
  {
   "cell_type": "markdown",
   "metadata": {},
   "source": [
    "### Load in the weekly data"
   ]
  },
  {
   "cell_type": "code",
   "execution_count": 3,
   "metadata": {},
   "outputs": [
    {
     "data": {
      "text/plain": [
       "433"
      ]
     },
     "execution_count": 3,
     "metadata": {},
     "output_type": "execute_result"
    }
   ],
   "source": [
    "df = pd.read_csv('DKSalaries.csv')\n",
    "len(df)"
   ]
  },
  {
   "cell_type": "code",
   "execution_count": 4,
   "metadata": {},
   "outputs": [
    {
     "data": {
      "text/html": [
       "<div>\n",
       "<style scoped>\n",
       "    .dataframe tbody tr th:only-of-type {\n",
       "        vertical-align: middle;\n",
       "    }\n",
       "\n",
       "    .dataframe tbody tr th {\n",
       "        vertical-align: top;\n",
       "    }\n",
       "\n",
       "    .dataframe thead th {\n",
       "        text-align: right;\n",
       "    }\n",
       "</style>\n",
       "<table border=\"1\" class=\"dataframe\">\n",
       "  <thead>\n",
       "    <tr style=\"text-align: right;\">\n",
       "      <th></th>\n",
       "      <th>Position</th>\n",
       "      <th>Name + ID</th>\n",
       "      <th>Name</th>\n",
       "      <th>ID</th>\n",
       "      <th>Roster Position</th>\n",
       "      <th>Salary</th>\n",
       "      <th>Game Info</th>\n",
       "      <th>TeamAbbrev</th>\n",
       "      <th>AvgPointsPerGame</th>\n",
       "    </tr>\n",
       "  </thead>\n",
       "  <tbody>\n",
       "    <tr>\n",
       "      <th>150</th>\n",
       "      <td>QB</td>\n",
       "      <td>David Blough (15677096)</td>\n",
       "      <td>David Blough</td>\n",
       "      <td>15677096</td>\n",
       "      <td>QB</td>\n",
       "      <td>4000</td>\n",
       "      <td>IND@DET 11/01/2020 01:00PM ET</td>\n",
       "      <td>DET</td>\n",
       "      <td>0.00</td>\n",
       "    </tr>\n",
       "    <tr>\n",
       "      <th>384</th>\n",
       "      <td>TE</td>\n",
       "      <td>Adam Trautman (15677765)</td>\n",
       "      <td>Adam Trautman</td>\n",
       "      <td>15677765</td>\n",
       "      <td>TE/FLEX</td>\n",
       "      <td>2500</td>\n",
       "      <td>NO@CHI 11/01/2020 04:25PM ET</td>\n",
       "      <td>NO</td>\n",
       "      <td>1.28</td>\n",
       "    </tr>\n",
       "    <tr>\n",
       "      <th>31</th>\n",
       "      <td>QB</td>\n",
       "      <td>Matthew Stafford (15677049)</td>\n",
       "      <td>Matthew Stafford</td>\n",
       "      <td>15677049</td>\n",
       "      <td>QB</td>\n",
       "      <td>6400</td>\n",
       "      <td>IND@DET 11/01/2020 01:00PM ET</td>\n",
       "      <td>DET</td>\n",
       "      <td>18.48</td>\n",
       "    </tr>\n",
       "    <tr>\n",
       "      <th>395</th>\n",
       "      <td>TE</td>\n",
       "      <td>Geoff Swaim (15677751)</td>\n",
       "      <td>Geoff Swaim</td>\n",
       "      <td>15677751</td>\n",
       "      <td>TE/FLEX</td>\n",
       "      <td>2500</td>\n",
       "      <td>TEN@CIN 11/01/2020 01:00PM ET</td>\n",
       "      <td>TEN</td>\n",
       "      <td>1.00</td>\n",
       "    </tr>\n",
       "    <tr>\n",
       "      <th>296</th>\n",
       "      <td>WR</td>\n",
       "      <td>Tajae Sharpe (15677575)</td>\n",
       "      <td>Tajae Sharpe</td>\n",
       "      <td>15677575</td>\n",
       "      <td>WR/FLEX</td>\n",
       "      <td>3000</td>\n",
       "      <td>MIN@GB 11/01/2020 01:00PM ET</td>\n",
       "      <td>MIN</td>\n",
       "      <td>0.00</td>\n",
       "    </tr>\n",
       "  </tbody>\n",
       "</table>\n",
       "</div>"
      ],
      "text/plain": [
       "    Position                    Name + ID              Name        ID  \\\n",
       "150       QB      David Blough (15677096)      David Blough  15677096   \n",
       "384       TE     Adam Trautman (15677765)     Adam Trautman  15677765   \n",
       "31        QB  Matthew Stafford (15677049)  Matthew Stafford  15677049   \n",
       "395       TE       Geoff Swaim (15677751)       Geoff Swaim  15677751   \n",
       "296       WR      Tajae Sharpe (15677575)      Tajae Sharpe  15677575   \n",
       "\n",
       "    Roster Position  Salary                      Game Info TeamAbbrev  \\\n",
       "150              QB    4000  IND@DET 11/01/2020 01:00PM ET        DET   \n",
       "384         TE/FLEX    2500   NO@CHI 11/01/2020 04:25PM ET         NO   \n",
       "31               QB    6400  IND@DET 11/01/2020 01:00PM ET        DET   \n",
       "395         TE/FLEX    2500  TEN@CIN 11/01/2020 01:00PM ET        TEN   \n",
       "296         WR/FLEX    3000   MIN@GB 11/01/2020 01:00PM ET        MIN   \n",
       "\n",
       "     AvgPointsPerGame  \n",
       "150              0.00  \n",
       "384              1.28  \n",
       "31              18.48  \n",
       "395              1.00  \n",
       "296              0.00  "
      ]
     },
     "execution_count": 4,
     "metadata": {},
     "output_type": "execute_result"
    }
   ],
   "source": [
    "df.sample(n=5)"
   ]
  },
  {
   "cell_type": "code",
   "execution_count": 5,
   "metadata": {},
   "outputs": [
    {
     "data": {
      "text/plain": [
       "433"
      ]
     },
     "execution_count": 5,
     "metadata": {},
     "output_type": "execute_result"
    }
   ],
   "source": [
    "# trim any postponed games, since those can't be included in a lineup\n",
    "df = df[df['Game Info'] != 'Postponed']\n",
    "len(df)"
   ]
  },
  {
   "cell_type": "code",
   "execution_count": 6,
   "metadata": {},
   "outputs": [
    {
     "data": {
      "text/plain": [
       "427"
      ]
     },
     "execution_count": 6,
     "metadata": {},
     "output_type": "execute_result"
    }
   ],
   "source": [
    "exclude_list = ['Emmanuel Sanders', 'Allen Lazard', 'Tim Patrick', 'Austin Ekeler', 'Jamison Crowder', 'Aaron Jones']\n",
    "df = df[~df['Name'].isin(exclude_list)]\n",
    "len(df)"
   ]
  },
  {
   "cell_type": "code",
   "execution_count": 7,
   "metadata": {},
   "outputs": [
    {
     "data": {
      "text/plain": [
       "244"
      ]
     },
     "execution_count": 7,
     "metadata": {},
     "output_type": "execute_result"
    }
   ],
   "source": [
    "# this is equivalent to an extra constraint that requires playing only players with a minimum cost\n",
    "# does not apply to DST, since that's kind of a special category\n",
    "df = df[(df.Salary >= 4000)|(df['Roster Position'] == 'DST')]\n",
    "len(df)"
   ]
  },
  {
   "cell_type": "markdown",
   "metadata": {},
   "source": [
    "### Create the constraint problem\n",
    "\n",
    "Goal: maximize AvgPointsPerGame\n",
    "\n",
    " - TotalPlayers = 9\n",
    " - TotalSalary <= 50000\n",
    " - TotalPosition_WR = 3\n",
    " - TotalPosition_RB = 2\n",
    " - TotalPosition_TE = 1\n",
    " - TotalPosition_QB = 1\n",
    " - TotalPosition_FLEX = 1\n",
    " - TotalPosition_DST = 1\n",
    " - Each player in only one position (relevant only for FLEX)\n",
    " "
   ]
  },
  {
   "cell_type": "code",
   "execution_count": 8,
   "metadata": {},
   "outputs": [],
   "source": [
    "prob = pulp.LpProblem('DK_NFL_weekly', pulp.LpMaximize)"
   ]
  },
  {
   "cell_type": "code",
   "execution_count": 9,
   "metadata": {},
   "outputs": [],
   "source": [
    "player_vars = [pulp.LpVariable(f'player_{row.ID}', cat='Binary') for row in df.itertuples()]"
   ]
  },
  {
   "cell_type": "code",
   "execution_count": 10,
   "metadata": {},
   "outputs": [],
   "source": [
    "# total assigned players constraint\n",
    "prob += pulp.lpSum(player_var for player_var in player_vars) == 9"
   ]
  },
  {
   "cell_type": "code",
   "execution_count": 11,
   "metadata": {},
   "outputs": [],
   "source": [
    "# position constraints\n",
    "# TODO fix this, currently won't work\n",
    "# as it makes the problem infeasible\n",
    "def get_position_sum(player_vars, df, position):\n",
    "    return pulp.lpSum([player_vars[i] * (position in df['Roster Position'].iloc[i]) for i in range(len(df))])\n",
    "    \n",
    "prob += get_position_sum(player_vars, df, 'QB') == 1\n",
    "prob += get_position_sum(player_vars, df, 'DST') == 1\n",
    "\n",
    "# to account for the FLEX position, we allow additional selections of the 3 FLEX-eligible roles\n",
    "prob += get_position_sum(player_vars, df, 'RB') >= 2\n",
    "prob += get_position_sum(player_vars, df, 'WR') >= 3\n",
    "prob += get_position_sum(player_vars, df, 'TE') >= 1"
   ]
  },
  {
   "cell_type": "code",
   "execution_count": 12,
   "metadata": {},
   "outputs": [],
   "source": [
    "# total salary constraint\n",
    "prob += pulp.lpSum(df.Salary.iloc[i] * player_vars[i] for i in range(len(df))) <= 50000"
   ]
  },
  {
   "cell_type": "code",
   "execution_count": 13,
   "metadata": {},
   "outputs": [],
   "source": [
    "# finally, specify the goal\n",
    "prob += pulp.lpSum([df.AvgPointsPerGame.iloc[i] * player_vars[i] for i in range(len(df))])"
   ]
  },
  {
   "cell_type": "code",
   "execution_count": 14,
   "metadata": {},
   "outputs": [
    {
     "name": "stdout",
     "output_type": "stream",
     "text": [
      "Optimal\n"
     ]
    }
   ],
   "source": [
    "# solve and print the status\n",
    "prob.solve()\n",
    "print(pulp.LpStatus[prob.status])"
   ]
  },
  {
   "cell_type": "code",
   "execution_count": 15,
   "metadata": {},
   "outputs": [
    {
     "name": "stdout",
     "output_type": "stream",
     "text": [
      "RB/FLEX Alvin Kamara NO 8200 28.9\n",
      "QB Russell Wilson SEA 7800 32.55\n",
      "WR/FLEX Tyler Lockett SEA 7100 24.53\n",
      "RB/FLEX Melvin Gordon III DEN 5600 16.72\n",
      "WR/FLEX Chase Claypool PIT 5200 15.4\n",
      "WR/FLEX Corey Davis TEN 5100 15.02\n",
      "TE/FLEX Robert Tonyan GB 4300 11.83\n",
      "TE/FLEX Jonnu Smith TEN 4100 12.38\n",
      "DST Dolphins  MIA 2400 8.0\n"
     ]
    },
    {
     "data": {
      "text/plain": [
       "(49800, 165.33)"
      ]
     },
     "execution_count": 15,
     "metadata": {},
     "output_type": "execute_result"
    }
   ],
   "source": [
    "# for each of the player variables, \n",
    "total_salary_used = 0\n",
    "mean_AvgPointsPerGame = 0\n",
    "for i in range(len(df)):\n",
    "    if player_vars[i].value() == 1:\n",
    "        row = df.iloc[i]\n",
    "        print(row['Roster Position'], row.Name, row.TeamAbbrev, row.Salary, row.AvgPointsPerGame)\n",
    "        total_salary_used += row.Salary\n",
    "        mean_AvgPointsPerGame += row.AvgPointsPerGame\n",
    "#mean_AvgPointsPerGame /= 9  # divide by total players in roster to get a mean\n",
    "total_salary_used, mean_AvgPointsPerGame"
   ]
  },
  {
   "cell_type": "code",
   "execution_count": null,
   "metadata": {},
   "outputs": [],
   "source": []
  }
 ],
 "metadata": {
  "kernelspec": {
   "display_name": "Python 3",
   "language": "python",
   "name": "python3"
  },
  "language_info": {
   "codemirror_mode": {
    "name": "ipython",
    "version": 3
   },
   "file_extension": ".py",
   "mimetype": "text/x-python",
   "name": "python",
   "nbconvert_exporter": "python",
   "pygments_lexer": "ipython3",
   "version": "3.6.10"
  }
 },
 "nbformat": 4,
 "nbformat_minor": 4
}
