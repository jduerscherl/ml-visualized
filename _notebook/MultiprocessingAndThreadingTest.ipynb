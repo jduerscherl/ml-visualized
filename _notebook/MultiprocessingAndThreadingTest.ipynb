{
 "cells": [
  {
   "cell_type": "markdown",
   "metadata": {},
   "source": [
    "Threading + Multiprocessing Test\n",
    "==="
   ]
  },
  {
   "cell_type": "code",
   "execution_count": 1,
   "metadata": {},
   "outputs": [],
   "source": [
    "import multiprocessing as mp\n",
    "import threading\n",
    "import time"
   ]
  },
  {
   "cell_type": "code",
   "execution_count": 2,
   "metadata": {},
   "outputs": [],
   "source": [
    "class ProducerProcess(mp.Process):\n",
    "    def __init__(self, output_queue, **kwargs):\n",
    "        super(ProducerProcess, self).__init__()\n",
    "        self.output_queue = output_queue\n",
    "\n",
    "    def run(self):\n",
    "        print(\"ProducerProcess: started!\")\n",
    "        while True:\n",
    "            time.sleep(5)  # do long computation\n",
    "            print(\"ProducerProcess: adding to queue\")\n",
    "            self.output_queue.put(int(time.time()))"
   ]
  },
  {
   "cell_type": "code",
   "execution_count": 3,
   "metadata": {},
   "outputs": [],
   "source": [
    "class ThreadsafeUpdatingDataContainer:\n",
    "    def __init__(self, queue):\n",
    "        self.data = None\n",
    "        self.data_lock = threading.Lock()\n",
    "        \n",
    "        # start consumer thread to update the data from a queue\n",
    "        consumer_thread = threading.Thread(\n",
    "            name=\"Consumer thread\", \n",
    "            target=self._update_data_from_queue, \n",
    "            args=(queue,),\n",
    "            daemon=True\n",
    "        )\n",
    "        consumer_thread.start()\n",
    "\n",
    "    def _update_data_from_queue(self, queue):\n",
    "        while True:\n",
    "            result = queue.get()  # this blocks this thread, but NOT the whole process\n",
    "            with self.data_lock:\n",
    "                print(f\"Main process, consumer thread: received result '{result}'\")\n",
    "                self.data = result\n",
    "    \n",
    "    def get_data(self):\n",
    "        with self.data_lock:\n",
    "            return self.data\n",
    "\n",
    "\n",
    "def run_test():\n",
    "    queue = mp.Queue()\n",
    "    \n",
    "    producer_process = ProducerProcess(output_queue=queue, daemon=True)\n",
    "    producer_process.start()\n",
    "\n",
    "    data_container = ThreadsafeUpdatingDataContainer(queue)\n",
    "    \n",
    "    for i in range(10):\n",
    "        time.sleep(2)  # this represents an I/O process that is occasionally querying the data\n",
    "        print(f\"Main process, main thread: Current data is '{data_container.get_data()}'\")"
   ]
  },
  {
   "cell_type": "code",
   "execution_count": 4,
   "metadata": {},
   "outputs": [
    {
     "name": "stdout",
     "output_type": "stream",
     "text": [
      "ProducerProcess: started!\n",
      "Main process, main thread: Current data is 'None'\n",
      "Main process, main thread: Current data is 'None'\n",
      "ProducerProcess: adding to queue\n",
      "Main process, consumer thread: received result '1603820572'\n",
      "Main process, main thread: Current data is '1603820572'\n",
      "Main process, main thread: Current data is '1603820572'\n",
      "ProducerProcess: adding to queue\n",
      "Main process, main thread: Current data is '1603820572'\n",
      "Main process, consumer thread: received result '1603820577'\n",
      "Main process, main thread: Current data is '1603820577'\n",
      "Main process, main thread: Current data is '1603820577'\n",
      "ProducerProcess: adding to queue\n",
      "Main process, consumer thread: received result '1603820582'\n",
      "Main process, main thread: Current data is '1603820582'\n",
      "Main process, main thread: Current data is '1603820582'\n",
      "Main process, main thread: Current data is '1603820582'\n",
      "ProducerProcess: adding to queue\n",
      "ProducerProcess: adding to queue\n",
      "ProducerProcess: adding to queue\n",
      "ProducerProcess: adding to queue\n"
     ]
    },
    {
     "name": "stderr",
     "output_type": "stream",
     "text": [
      "Process ProducerProcess-1:\n",
      "Traceback (most recent call last):\n",
      "  File \"/home/levoniaz/anaconda3/lib/python3.6/multiprocessing/process.py\", line 258, in _bootstrap\n",
      "    self.run()\n",
      "  File \"<ipython-input-2-73a61a4ae76c>\", line 9, in run\n",
      "    time.sleep(5)  # do long computation\n",
      "KeyboardInterrupt\n"
     ]
    }
   ],
   "source": [
    "run_test()"
   ]
  },
  {
   "cell_type": "code",
   "execution_count": null,
   "metadata": {},
   "outputs": [],
   "source": []
  }
 ],
 "metadata": {
  "kernelspec": {
   "display_name": "Python 3",
   "language": "python",
   "name": "python3"
  },
  "language_info": {
   "codemirror_mode": {
    "name": "ipython",
    "version": 3
   },
   "file_extension": ".py",
   "mimetype": "text/x-python",
   "name": "python",
   "nbconvert_exporter": "python",
   "pygments_lexer": "ipython3",
   "version": "3.6.10"
  }
 },
 "nbformat": 4,
 "nbformat_minor": 4
}
